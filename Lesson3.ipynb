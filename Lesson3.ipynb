{
 "cells": [
  {
   "cell_type": "markdown",
   "id": "70124b1d",
   "metadata": {},
   "source": [
    "## Lesson 3"
   ]
  },
  {
   "cell_type": "code",
   "execution_count": 4,
   "id": "ec8efdd2",
   "metadata": {},
   "outputs": [],
   "source": [
    "text = \"\"\" ChatGPT is    an AI assistant.\\n\\n It understands natural language.\\n\\n It helps answer    questions fast.\\n\\n It can assist with writing \\n\\ntasks.\\n\\n ChatGPT learns    from vast data.\\n\\nIt adapts to    user needs well.\\n\\n This AI     is by OpenAI's team.\\n\\n It's built to aid     and inform.\\n\\n Ask ChatGPT anything today!\"\"\""
   ]
  },
  {
   "cell_type": "code",
   "execution_count": 5,
   "id": "9b6dd720",
   "metadata": {},
   "outputs": [
    {
     "name": "stdout",
     "output_type": "stream",
     "text": [
      " ChatGPT is    an AI assistant.\n",
      "\n",
      " It understands natural language.\n",
      "\n",
      " It helps answer    questions fast.\n",
      "\n",
      " It can assist with writing \n",
      "\n",
      "tasks.\n",
      "\n",
      " ChatGPT learns    from vast data.\n",
      "\n",
      "It adapts to    user needs well.\n",
      "\n",
      " This AI     is by OpenAI's team.\n",
      "\n",
      " It's built to aid     and inform.\n",
      "\n",
      " Ask ChatGPT anything today!\n"
     ]
    }
   ],
   "source": [
    "print(text)"
   ]
  },
  {
   "cell_type": "code",
   "execution_count": 6,
   "id": "d892dbe8",
   "metadata": {},
   "outputs": [],
   "source": [
    "max_size = 63\n",
    "stop_chars = {'.','?','!',\";\"}\n",
    "end_points = []\n",
    "for i in range(len(text)):\n",
    "    if text[i] in stop_chars:\n",
    "        end_points.append(i)"
   ]
  },
  {
   "cell_type": "code",
   "execution_count": 7,
   "id": "7068b6c9",
   "metadata": {},
   "outputs": [
    {
     "data": {
      "text/plain": [
       "[30, 65, 102, 140, 176, 210, 245, 281, 311]"
      ]
     },
     "execution_count": 7,
     "metadata": {},
     "output_type": "execute_result"
    }
   ],
   "source": [
    "end_points"
   ]
  },
  {
   "cell_type": "code",
   "execution_count": 8,
   "id": "95e506c7",
   "metadata": {},
   "outputs": [],
   "source": [
    "#cut_points = []\n"
   ]
  },
  {
   "cell_type": "code",
   "execution_count": 9,
   "id": "975ba205",
   "metadata": {},
   "outputs": [],
   "source": [
    "# read text \n",
    "path = 'alice.txt'\n",
    "with open(path,encoding='utf8') as file:\n",
    "    contents = file.read()"
   ]
  },
  {
   "cell_type": "code",
   "execution_count": 57,
   "id": "f26d690a",
   "metadata": {},
   "outputs": [
    {
     "name": "stdout",
     "output_type": "stream",
     "text": [
      "Project Gutenberg’s Alice’s Adventures in Wonderland, by Lewis Carroll\n",
      "\n",
      "This eBook is for the use of\n"
     ]
    }
   ],
   "source": [
    "print(contents[:100])"
   ]
  },
  {
   "cell_type": "code",
   "execution_count": 58,
   "id": "a822d2c8",
   "metadata": {},
   "outputs": [],
   "source": [
    "path_abs =r'D:\\CODE\\Python_basic\\Data\\little_women.txt'\n",
    "with open(path_abs) as f:\n",
    "    contens_1 = f.read()"
   ]
  },
  {
   "cell_type": "code",
   "execution_count": 89,
   "id": "176f0a13",
   "metadata": {},
   "outputs": [
    {
     "name": "stdout",
     "output_type": "stream",
     "text": [
      "ï»¿The Project Gutenberg EBook of Little Women, by Louisa May Alcott\n",
      "\n",
      "This eBook is for the use of anyone anywhere at no cost and with\n",
      "almost no restrictions whatsoever.  You may copy it, give it away\n"
     ]
    }
   ],
   "source": [
    "print(contens_1[:200])"
   ]
  },
  {
   "cell_type": "code",
   "execution_count": 60,
   "id": "6ca4d63f",
   "metadata": {},
   "outputs": [],
   "source": [
    "path_rela =r'Data\\little_women.txt'\n",
    "with open(path_abs) as f:\n",
    "    contens_2 = f.read()"
   ]
  },
  {
   "cell_type": "code",
   "execution_count": 61,
   "id": "b889f413",
   "metadata": {},
   "outputs": [],
   "source": [
    "with open('Data/new_file.txt','w') as f:\n",
    "    f.write('Hello python')"
   ]
  },
  {
   "cell_type": "code",
   "execution_count": 62,
   "id": "8e19da57",
   "metadata": {},
   "outputs": [],
   "source": [
    "with open('Data/new_file.txt','a') as f:\n",
    "    f.write('\\nHello python 3')"
   ]
  },
  {
   "cell_type": "code",
   "execution_count": 63,
   "id": "edf442ac",
   "metadata": {},
   "outputs": [
    {
     "data": {
      "text/plain": [
       "{'Lan': 10, 'Minh': 8, 'Bách': 6}"
      ]
     },
     "execution_count": 63,
     "metadata": {},
     "output_type": "execute_result"
    }
   ],
   "source": [
    "scores = {\"Lan\":9, \"Minh\":8, \"Bách\":6, \"Lan\":10}\n",
    "scores "
   ]
  },
  {
   "cell_type": "code",
   "execution_count": 64,
   "id": "d0a5f1ad",
   "metadata": {},
   "outputs": [
    {
     "data": {
      "text/plain": [
       "10"
      ]
     },
     "execution_count": 64,
     "metadata": {},
     "output_type": "execute_result"
    }
   ],
   "source": [
    "scores[\"Lan\"]"
   ]
  },
  {
   "cell_type": "code",
   "execution_count": 65,
   "id": "4d3291f5",
   "metadata": {},
   "outputs": [
    {
     "data": {
      "text/plain": [
       "dict_keys(['Lan', 'Minh', 'Bách'])"
      ]
     },
     "execution_count": 65,
     "metadata": {},
     "output_type": "execute_result"
    }
   ],
   "source": [
    "scores.keys()"
   ]
  },
  {
   "cell_type": "code",
   "execution_count": 66,
   "id": "4ed5e581",
   "metadata": {},
   "outputs": [
    {
     "data": {
      "text/plain": [
       "dict_values([10, 8, 6])"
      ]
     },
     "execution_count": 66,
     "metadata": {},
     "output_type": "execute_result"
    }
   ],
   "source": [
    "scores.values()"
   ]
  },
  {
   "cell_type": "code",
   "execution_count": 67,
   "id": "98ad17f2",
   "metadata": {},
   "outputs": [
    {
     "data": {
      "text/plain": [
       "{'Lan': 10, 'Minh': 8, 'Bách': 6, 'Long': 8}"
      ]
     },
     "execution_count": 67,
     "metadata": {},
     "output_type": "execute_result"
    }
   ],
   "source": [
    "scores[\"Long\"] = 8\n",
    "scores"
   ]
  },
  {
   "cell_type": "code",
   "execution_count": 68,
   "id": "1f7115a9",
   "metadata": {},
   "outputs": [
    {
     "data": {
      "text/plain": [
       "{'Lan': 10, 'Minh': 8, 'Bách': 6}"
      ]
     },
     "execution_count": 68,
     "metadata": {},
     "output_type": "execute_result"
    }
   ],
   "source": [
    "del scores['Long']\n",
    "scores"
   ]
  },
  {
   "cell_type": "code",
   "execution_count": 69,
   "id": "e7588f2f",
   "metadata": {},
   "outputs": [
    {
     "data": {
      "text/plain": [
       "{'Lan': 10, 'Minh': 8, 'Bách': 6, 'Huy': [2, 5], 'Mai': 'pass'}"
      ]
     },
     "execution_count": 69,
     "metadata": {},
     "output_type": "execute_result"
    }
   ],
   "source": [
    "scores['Huy'] = [2,5]\n",
    "scores['Mai'] = 'pass'\n",
    "scores"
   ]
  },
  {
   "cell_type": "code",
   "execution_count": 70,
   "id": "c9c3291f",
   "metadata": {},
   "outputs": [
    {
     "data": {
      "text/plain": [
       "{(1, 2): 2}"
      ]
     },
     "execution_count": 70,
     "metadata": {},
     "output_type": "execute_result"
    }
   ],
   "source": [
    "{(1,2):2}"
   ]
  },
  {
   "cell_type": "code",
   "execution_count": 71,
   "id": "3cca15a1",
   "metadata": {},
   "outputs": [
    {
     "name": "stdout",
     "output_type": "stream",
     "text": [
      "Key:  Lan\n",
      "Values: 10\n",
      "Key:  Minh\n",
      "Values: 8\n",
      "Key:  Bách\n",
      "Values: 6\n",
      "Key:  Huy\n",
      "Values: [2, 5]\n",
      "Key:  Mai\n",
      "Values: pass\n"
     ]
    }
   ],
   "source": [
    "for key, value in scores.items():\n",
    "    print('Key: ', key)\n",
    "    print('Values:',value)"
   ]
  },
  {
   "cell_type": "code",
   "execution_count": 72,
   "id": "351b5b8d",
   "metadata": {},
   "outputs": [
    {
     "name": "stdout",
     "output_type": "stream",
     "text": [
      "Lan\n",
      "10\n",
      "Minh\n",
      "8\n",
      "Bách\n",
      "6\n",
      "Huy\n",
      "[2, 5]\n",
      "Mai\n",
      "pass\n"
     ]
    }
   ],
   "source": [
    "for key in scores.keys():\n",
    "    print(key)\n",
    "    print(scores[key])\n"
   ]
  },
  {
   "cell_type": "code",
   "execution_count": 73,
   "id": "3096e8b5",
   "metadata": {},
   "outputs": [
    {
     "name": "stdout",
     "output_type": "stream",
     "text": [
      "10\n",
      "8\n",
      "6\n",
      "[2, 5]\n",
      "pass\n"
     ]
    }
   ],
   "source": [
    "for value in scores.values():\n",
    "    print(value)"
   ]
  },
  {
   "cell_type": "code",
   "execution_count": 74,
   "id": "58798c48",
   "metadata": {},
   "outputs": [
    {
     "name": "stdout",
     "output_type": "stream",
     "text": [
      "Lan\n",
      "Minh\n",
      "Bách\n",
      "Huy\n",
      "Mai\n"
     ]
    }
   ],
   "source": [
    "for key in scores:\n",
    "    print(key)"
   ]
  },
  {
   "cell_type": "code",
   "execution_count": 75,
   "id": "784b2386",
   "metadata": {},
   "outputs": [
    {
     "data": {
      "text/plain": [
       "{'Lan': 10, 'Minh': 8, 'Bách': 6, 'Huy': [2, 5], 'Mai': 'pass'}"
      ]
     },
     "execution_count": 75,
     "metadata": {},
     "output_type": "execute_result"
    }
   ],
   "source": [
    "scores"
   ]
  },
  {
   "cell_type": "code",
   "execution_count": 76,
   "id": "12adee8d",
   "metadata": {},
   "outputs": [
    {
     "data": {
      "text/plain": [
       "{'Lan': 10, 'Minh': 8, 'Bách': 6}"
      ]
     },
     "execution_count": 76,
     "metadata": {},
     "output_type": "execute_result"
    }
   ],
   "source": [
    "del scores[\"Huy\"]\n",
    "del scores['Mai']\n",
    "scores"
   ]
  },
  {
   "cell_type": "code",
   "execution_count": 77,
   "id": "528027b7",
   "metadata": {},
   "outputs": [
    {
     "data": {
      "text/plain": [
       "True"
      ]
     },
     "execution_count": 77,
     "metadata": {},
     "output_type": "execute_result"
    }
   ],
   "source": [
    "'Lan' in scores"
   ]
  },
  {
   "cell_type": "code",
   "execution_count": 78,
   "id": "36ecfc52",
   "metadata": {},
   "outputs": [],
   "source": [
    "# sort"
   ]
  },
  {
   "cell_type": "code",
   "execution_count": 79,
   "id": "b35edb59",
   "metadata": {},
   "outputs": [],
   "source": [
    "import this "
   ]
  },
  {
   "cell_type": "code",
   "execution_count": 80,
   "id": "beee02f4",
   "metadata": {},
   "outputs": [],
   "source": [
    "text = \"\"\" The Zen of Python, by Tim Peters\n",
    "\n",
    "Beautiful is better than ugly.\n",
    "Explicit is better than implicit.\n",
    "Simple is better than complex.\n",
    "Complex is better than complicated.\n",
    "Flat is better than nested.\n",
    "Sparse is better than dense.\n",
    "Readability counts.\n",
    "Special cases aren't special enough to break the rules.\n",
    "Although practicality beats purity.\n",
    "Errors should never pass silently.\n",
    "Unless explicitly silenced.\n",
    "In the face of ambiguity, refuse the temptation to guess.\n",
    "There should be one-- and preferably only one --obvious way to do it.\n",
    "Although that way may not be obvious at first unless you're Dutch.\n",
    "Now is better than never.\n",
    "Although never is often better than *right* now.\n",
    "If the implementation is hard to explain, it's a bad idea.\n",
    "If the implementation is easy to explain, it may be a good idea.\n",
    "Namespaces are one honking great idea -- let's do more of those!\"\"\""
   ]
  },
  {
   "cell_type": "code",
   "execution_count": 81,
   "id": "e55d4363",
   "metadata": {},
   "outputs": [],
   "source": [
    "# chuan hoa\n",
    "text = text.lower()\n",
    "special_chars = {'*','-','.',',','!'}\n",
    "for char in special_chars:\n",
    "    text = text.replace(char,' ')"
   ]
  },
  {
   "cell_type": "code",
   "execution_count": 82,
   "id": "27277a3e",
   "metadata": {},
   "outputs": [
    {
     "name": "stdout",
     "output_type": "stream",
     "text": [
      " the zen of python  by tim peters\n",
      "\n",
      "beautiful is better than ugly \n",
      "explicit is better than implicit \n",
      "\n"
     ]
    }
   ],
   "source": [
    "print(text[:100])"
   ]
  },
  {
   "cell_type": "code",
   "execution_count": 83,
   "id": "72914393",
   "metadata": {},
   "outputs": [
    {
     "name": "stdout",
     "output_type": "stream",
     "text": [
      "['the', 'zen', 'of', 'python', 'by', 'tim', 'peters', 'beautiful', 'is', 'better', 'than', 'ugly', 'explicit', 'is', 'better', 'than', 'implicit', 'simple', 'is', 'better', 'than', 'complex', 'complex', 'is', 'better', 'than', 'complicated', 'flat', 'is', 'better', 'than', 'nested', 'sparse', 'is', 'better', 'than', 'dense', 'readability', 'counts', 'special', 'cases', \"aren't\", 'special', 'enough', 'to', 'break', 'the', 'rules', 'although', 'practicality', 'beats', 'purity', 'errors', 'should', 'never', 'pass', 'silently', 'unless', 'explicitly', 'silenced', 'in', 'the', 'face', 'of', 'ambiguity', 'refuse', 'the', 'temptation', 'to', 'guess', 'there', 'should', 'be', 'one', 'and', 'preferably', 'only', 'one', 'obvious', 'way', 'to', 'do', 'it', 'although', 'that', 'way', 'may', 'not', 'be', 'obvious', 'at', 'first', 'unless', \"you're\", 'dutch', 'now', 'is', 'better', 'than', 'never', 'although', 'never', 'is', 'often', 'better', 'than', 'right', 'now', 'if', 'the', 'implementation', 'is', 'hard', 'to', 'explain', \"it's\", 'a', 'bad', 'idea', 'if', 'the', 'implementation', 'is', 'easy', 'to', 'explain', 'it', 'may', 'be', 'a', 'good', 'idea', 'namespaces', 'are', 'one', 'honking', 'great', 'idea', \"let's\", 'do', 'more', 'of', 'those']\n"
     ]
    }
   ],
   "source": [
    "words = text.split()\n",
    "print(words)"
   ]
  },
  {
   "cell_type": "code",
   "execution_count": 84,
   "id": "797ba5c1",
   "metadata": {},
   "outputs": [],
   "source": [
    "fre_dic = {} # word:frequency\n",
    "for word in words:\n",
    "    if word in fre_dic:\n",
    "        fre_dic[word] += 1\n",
    "    else:\n",
    "        fre_dic[word] = 1"
   ]
  },
  {
   "cell_type": "code",
   "execution_count": 85,
   "id": "7d884578",
   "metadata": {},
   "outputs": [
    {
     "name": "stdout",
     "output_type": "stream",
     "text": [
      "{'the': 6, 'zen': 1, 'of': 3, 'python': 1, 'by': 1, 'tim': 1, 'peters': 1, 'beautiful': 1, 'is': 10, 'better': 8, 'than': 8, 'ugly': 1, 'explicit': 1, 'implicit': 1, 'simple': 1, 'complex': 2, 'complicated': 1, 'flat': 1, 'nested': 1, 'sparse': 1, 'dense': 1, 'readability': 1, 'counts': 1, 'special': 2, 'cases': 1, \"aren't\": 1, 'enough': 1, 'to': 5, 'break': 1, 'rules': 1, 'although': 3, 'practicality': 1, 'beats': 1, 'purity': 1, 'errors': 1, 'should': 2, 'never': 3, 'pass': 1, 'silently': 1, 'unless': 2, 'explicitly': 1, 'silenced': 1, 'in': 1, 'face': 1, 'ambiguity': 1, 'refuse': 1, 'temptation': 1, 'guess': 1, 'there': 1, 'be': 3, 'one': 3, 'and': 1, 'preferably': 1, 'only': 1, 'obvious': 2, 'way': 2, 'do': 2, 'it': 2, 'that': 1, 'may': 2, 'not': 1, 'at': 1, 'first': 1, \"you're\": 1, 'dutch': 1, 'now': 2, 'often': 1, 'right': 1, 'if': 2, 'implementation': 2, 'hard': 1, 'explain': 2, \"it's\": 1, 'a': 2, 'bad': 1, 'idea': 3, 'easy': 1, 'good': 1, 'namespaces': 1, 'are': 1, 'honking': 1, 'great': 1, \"let's\": 1, 'more': 1, 'those': 1}\n"
     ]
    }
   ],
   "source": [
    "print(fre_dic)"
   ]
  },
  {
   "cell_type": "code",
   "execution_count": 86,
   "id": "f88bdf87",
   "metadata": {},
   "outputs": [],
   "source": [
    "dict_sorted = dict(sorted(fre_dic.items(), \n",
    "       key= lambda x: x[1],\n",
    "       reverse= True))"
   ]
  },
  {
   "cell_type": "code",
   "execution_count": 87,
   "id": "afe0e18a",
   "metadata": {},
   "outputs": [
    {
     "data": {
      "text/plain": [
       "is         10\n",
       "better      8\n",
       "than        8\n",
       "the         6\n",
       "to          5\n",
       "           ..\n",
       "honking     1\n",
       "great       1\n",
       "let's       1\n",
       "more        1\n",
       "those       1\n",
       "Length: 85, dtype: int64"
      ]
     },
     "execution_count": 87,
     "metadata": {},
     "output_type": "execute_result"
    }
   ],
   "source": [
    "import pandas as pd\n",
    "pd.Series(dict_sorted)"
   ]
  },
  {
   "cell_type": "code",
   "execution_count": 88,
   "id": "d1170cd6",
   "metadata": {},
   "outputs": [
    {
     "data": {
      "image/png": "[encoded data removed]",
      "text/plain": [
       "<Figure size 400x1000 with 1 Axes>"
      ]
     },
     "metadata": {},
     "output_type": "display_data"
    }
   ],
   "source": [
    "pd.Series(dict_sorted).plot(kind='barh', figsize= (4,10));"
   ]
  },
  {
   "attachments": {
    "image.png": {
     "image/png": "[encoded data removed]"
    }
   },
   "cell_type": "markdown",
   "id": "9f9cfc39",
   "metadata": {},
   "source": [
    "![image.png](attachment:image.png)"
   ]
  },
  {
   "cell_type": "code",
   "execution_count": 42,
   "id": "cf6f1950",
   "metadata": {},
   "outputs": [
    {
     "name": "stdout",
     "output_type": "stream",
     "text": [
      "Your age:12 and discount = 8.0 %\n"
     ]
    }
   ],
   "source": [
    "age = int(input(\"How old are you? \"))\n",
    "if age<10:\n",
    "    discount = 0.15\n",
    "elif age<18:\n",
    "    discount = 0.08\n",
    "elif age<23:\n",
    "    discount = 0.05\n",
    "elif age<=60:\n",
    "    discount = 0.02\n",
    "else:\n",
    "    discount = 0.25\n",
    "\n",
    "print(f\"Your age:{age} and discount = {discount*100} %\")"
   ]
  },
  {
   "cell_type": "code",
   "execution_count": 43,
   "id": "b33356fd",
   "metadata": {},
   "outputs": [
    {
     "name": "stdout",
     "output_type": "stream",
     "text": [
      "1\n",
      "2\n",
      "3\n",
      "4\n",
      "5\n",
      "6\n",
      "7\n",
      "8\n",
      "9\n",
      "10\n"
     ]
    }
   ],
   "source": [
    "x = 1\n",
    "while x<=10:\n",
    "    print(x)\n",
    "    x += 1 "
   ]
  },
  {
   "cell_type": "code",
   "execution_count": 44,
   "id": "3fbffe4b",
   "metadata": {},
   "outputs": [],
   "source": [
    "def xinchao():\n",
    "    \"\"\"ham in ra từ xin chao\"\"\"\n",
    "    print(\"Xin chao các thầy cô\")"
   ]
  },
  {
   "cell_type": "code",
   "execution_count": 45,
   "id": "35cb264a",
   "metadata": {},
   "outputs": [
    {
     "name": "stdout",
     "output_type": "stream",
     "text": [
      "Xin chao các thầy cô\n"
     ]
    }
   ],
   "source": [
    "xinchao()"
   ]
  },
  {
   "cell_type": "code",
   "execution_count": 46,
   "id": "cb71277e",
   "metadata": {},
   "outputs": [
    {
     "name": "stdout",
     "output_type": "stream",
     "text": [
      "Xin chao các thầy cô\n"
     ]
    }
   ],
   "source": [
    "xinchao()"
   ]
  },
  {
   "cell_type": "code",
   "execution_count": 47,
   "id": "bf2a066e",
   "metadata": {},
   "outputs": [],
   "source": [
    "def xinchao1(name):\n",
    "    \"\"\"ham in ra từ xin chao\"\"\"\n",
    "    print(f\"Xin chao các thầy /cô: {name}\")"
   ]
  },
  {
   "cell_type": "code",
   "execution_count": 48,
   "id": "a0eb37dd",
   "metadata": {},
   "outputs": [
    {
     "name": "stdout",
     "output_type": "stream",
     "text": [
      "Xin chao các thầy /cô: Lan\n",
      "None\n"
     ]
    }
   ],
   "source": [
    "print(xinchao1('Lan'))"
   ]
  },
  {
   "cell_type": "code",
   "execution_count": 49,
   "id": "fffd8521",
   "metadata": {},
   "outputs": [],
   "source": [
    "def xinchao2(ho, ten):\n",
    "    \"\"\"Print full name và trả ra fullname.title()\"\"\"\n",
    "    full_name = f\"{ho} {ten}\"\n",
    "    print(f'Xin chao {full_name}')\n",
    "    return full_name.title()"
   ]
  },
  {
   "cell_type": "code",
   "execution_count": 50,
   "id": "14a6bc6e",
   "metadata": {},
   "outputs": [
    {
     "name": "stdout",
     "output_type": "stream",
     "text": [
      "Xin chao nguyen long\n"
     ]
    }
   ],
   "source": [
    "ten = xinchao2('nguyen',\"long\")"
   ]
  },
  {
   "cell_type": "code",
   "execution_count": 51,
   "id": "e01683d3",
   "metadata": {},
   "outputs": [
    {
     "data": {
      "text/plain": [
       "'Nguyen Long'"
      ]
     },
     "execution_count": 51,
     "metadata": {},
     "output_type": "execute_result"
    }
   ],
   "source": [
    "ten "
   ]
  },
  {
   "cell_type": "code",
   "execution_count": 52,
   "id": "c94ee938",
   "metadata": {},
   "outputs": [],
   "source": [
    "def xinchao3(ho:str, ten:str)->str:\n",
    "    \"\"\"Print full name và trả ra fullname.title()\"\"\"\n",
    "    full_name = f\"{ho} {ten}\"\n",
    "    print(f'Xin chao {full_name}')\n",
    "    return full_name.title()"
   ]
  },
  {
   "cell_type": "code",
   "execution_count": 53,
   "id": "2e13d708",
   "metadata": {},
   "outputs": [
    {
     "data": {
      "text/plain": [
       "<function __main__.xinchao3(ho: str, ten: str) -> str>"
      ]
     },
     "execution_count": 53,
     "metadata": {},
     "output_type": "execute_result"
    }
   ],
   "source": [
    "xinchao3"
   ]
  },
  {
   "cell_type": "code",
   "execution_count": 54,
   "id": "a7dc1826",
   "metadata": {},
   "outputs": [
    {
     "data": {
      "text/plain": [
       "\" the zen of python  by tim peters\\n\\nbeautiful is better than ugly \\nexplicit is better than implicit \\nsimple is better than complex \\ncomplex is better than complicated \\nflat is better than nested \\nsparse is better than dense \\nreadability counts \\nspecial cases aren't special enough to break the rules \\nalthough practicality beats purity \\nerrors should never pass silently \\nunless explicitly silenced \\nin the face of ambiguity  refuse the temptation to guess \\nthere should be one   and preferably only one   obvious way to do it \\nalthough that way may not be obvious at first unless you're dutch \\nnow is better than never \\nalthough never is often better than  right  now \\nif the implementation is hard to explain  it's a bad idea \\nif the implementation is easy to explain  it may be a good idea \\nnamespaces are one honking great idea    let's do more of those \""
      ]
     },
     "execution_count": 54,
     "metadata": {},
     "output_type": "execute_result"
    }
   ],
   "source": [
    "text "
   ]
  },
  {
   "cell_type": "code",
   "execution_count": 55,
   "id": "1123bf5e",
   "metadata": {},
   "outputs": [
    {
     "data": {
      "text/plain": [
       "{'Giáo': 1,\n",
       " 'sư,': 1,\n",
       " 'Tiến': 2,\n",
       " 'sĩ': 2,\n",
       " 'Nguyễn': 1,\n",
       " 'Quang': 1,\n",
       " 'Dong,': 1,\n",
       " 'là': 3,\n",
       " 'một': 1,\n",
       " 'nhà': 2,\n",
       " 'khoa': 3,\n",
       " 'học': 3,\n",
       " 'và': 2,\n",
       " 'giáo': 1,\n",
       " 'dục': 1,\n",
       " 'nổi': 1,\n",
       " 'tiếng,': 1,\n",
       " 'từng': 1,\n",
       " 'Trưởng': 1,\n",
       " 'Toán': 2,\n",
       " 'Kinh': 3,\n",
       " 'tế': 2,\n",
       " 'tại': 1,\n",
       " 'Đại': 1,\n",
       " 'Quốc': 1,\n",
       " 'dân.': 1,\n",
       " 'Ông': 2,\n",
       " 'sinh': 2,\n",
       " 'năm': 1,\n",
       " '1955': 1,\n",
       " 'viên': 1,\n",
       " 'khóa': 1,\n",
       " '15': 1,\n",
       " 'của': 1,\n",
       " 'Khoa': 1,\n",
       " 'tế.': 1,\n",
       " 'có': 1,\n",
       " 'bằng': 1,\n",
       " 'do': 1,\n",
       " 'Viện': 1,\n",
       " 'Hàn': 1,\n",
       " 'lâm': 1,\n",
       " 'Hungary': 1,\n",
       " 'đào': 1,\n",
       " 'tạo.': 1}"
      ]
     },
     "execution_count": 55,
     "metadata": {},
     "output_type": "execute_result"
    }
   ],
   "source": [
    "text = \"\"\" Giáo sư, Tiến sĩ Nguyễn Quang Dong, là một nhà khoa học và nhà giáo dục nổi tiếng, từng là Trưởng khoa Toán Kinh tế tại Đại học Kinh tế Quốc dân. Ông sinh năm 1955 và là sinh viên khóa 15 của Khoa Toán Kinh tế. Ông có bằng Tiến sĩ do Viện Hàn lâm khoa học Hungary đào tạo. \"\"\"\n",
    "def get_fre_word(text: str)->dict:\n",
    "    \"\"\"input: text, output: dict tần số các từ\"\"\"\n",
    "    fre_dict={}\n",
    "    words = text.split()\n",
    "    for word in words:\n",
    "        if word in fre_dict:\n",
    "            fre_dict[word] += 1\n",
    "        else:\n",
    "            fre_dict[word] = 1\n",
    "    return fre_dict\n",
    "get_fre_word(text)"
   ]
  },
  {
   "cell_type": "code",
   "execution_count": 56,
   "id": "85e81d3f",
   "metadata": {},
   "outputs": [
    {
     "data": {
      "text/plain": [
       "{'Giáo': 1,\n",
       " 'sư': 1,\n",
       " 'sư,': 1,\n",
       " 'Tiến': 2,\n",
       " 'sĩ': 1,\n",
       " 'Nguyễn': 1,\n",
       " 'Quang': 1,\n",
       " 'Dong,': 1}"
      ]
     },
     "execution_count": 56,
     "metadata": {},
     "output_type": "execute_result"
    }
   ],
   "source": [
    "text = \" Giáo sư sư, Tiến sĩ Nguyễn Quang Dong, Tiến\" \n",
    "def get_fre_word(text: str)->dict:\n",
    "    \"\"\"input: text, output: dict tần số các từ\"\"\"\n",
    "    fre_dict={}\n",
    "    words = text.split()\n",
    "    for word in words:\n",
    "        if word in fre_dict:\n",
    "            fre_dict[word] += 1\n",
    "        else:\n",
    "            fre_dict[word] = 1\n",
    "    return fre_dict\n",
    "get_fre_word(text)"
   ]
  },
  {
   "cell_type": "code",
   "execution_count": null,
   "id": "4653d76b",
   "metadata": {},
   "outputs": [],
   "source": []
  }
 ],
 "metadata": {
  "kernelspec": {
   "display_name": "env-teaching",
   "language": "python",
   "name": "python3"
  },
  "language_info": {
   "codemirror_mode": {
    "name": "ipython",
    "version": 3
   },
   "file_extension": ".py",
   "mimetype": "text/x-python",
   "name": "python",
   "nbconvert_exporter": "python",
   "pygments_lexer": "ipython3",
   "version": "3.11.7"
  }
 },
 "nbformat": 4,
 "nbformat_minor": 5
}
