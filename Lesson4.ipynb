{
 "cells": [
  {
   "cell_type": "markdown",
   "id": "cb9080af",
   "metadata": {},
   "source": [
    "## Lesson 4"
   ]
  },
  {
   "cell_type": "code",
   "execution_count": null,
   "id": "802530cb",
   "metadata": {},
   "outputs": [],
   "source": []
  },
  {
   "cell_type": "code",
   "execution_count": 5,
   "id": "8a086934",
   "metadata": {},
   "outputs": [],
   "source": [
    "# check prime\n",
    "def is_prime(n:int)->bool:\n",
    "    \"\"\"check prime numbers\"\"\"\n",
    "    if n<=1:\n",
    "        return False\n",
    "    else:\n",
    "        for d in range(2,int(n**0.5)+1):\n",
    "            if n%d==0:\n",
    "                return False\n",
    "    return True "
   ]
  },
  {
   "cell_type": "code",
   "execution_count": 8,
   "id": "24a7ac6c",
   "metadata": {},
   "outputs": [
    {
     "data": {
      "text/plain": [
       "True"
      ]
     },
     "execution_count": 8,
     "metadata": {},
     "output_type": "execute_result"
    }
   ],
   "source": [
    "is_prime(11)"
   ]
  },
  {
   "cell_type": "code",
   "execution_count": 10,
   "id": "1e92610f",
   "metadata": {},
   "outputs": [],
   "source": [
    "#vi tri của tham số\n",
    "def cal(x,y):\n",
    "    return x+2*y"
   ]
  },
  {
   "cell_type": "code",
   "execution_count": 11,
   "id": "b03ad46f",
   "metadata": {},
   "outputs": [
    {
     "data": {
      "text/plain": [
       "False"
      ]
     },
     "execution_count": 11,
     "metadata": {},
     "output_type": "execute_result"
    }
   ],
   "source": [
    "cal(3,4) == cal(4,3)"
   ]
  },
  {
   "cell_type": "code",
   "execution_count": 12,
   "id": "0c024bef",
   "metadata": {},
   "outputs": [
    {
     "data": {
      "text/plain": [
       "True"
      ]
     },
     "execution_count": 12,
     "metadata": {},
     "output_type": "execute_result"
    }
   ],
   "source": [
    "cal(x = 3,y = 4) == cal(y = 4,x = 3)"
   ]
  },
  {
   "cell_type": "code",
   "execution_count": 4,
   "id": "3df44e0d",
   "metadata": {},
   "outputs": [
    {
     "data": {
      "text/plain": [
       "[1, 2, 4, 4]"
      ]
     },
     "execution_count": 4,
     "metadata": {},
     "output_type": "execute_result"
    }
   ],
   "source": [
    "sorted([2,4,1,4])"
   ]
  },
  {
   "cell_type": "code",
   "execution_count": 15,
   "id": "b992da67",
   "metadata": {},
   "outputs": [],
   "source": [
    "def cal1(x,y=1):\n",
    "    return x+2*y"
   ]
  },
  {
   "cell_type": "code",
   "execution_count": 16,
   "id": "f232821d",
   "metadata": {},
   "outputs": [
    {
     "data": {
      "text/plain": [
       "11"
      ]
     },
     "execution_count": 16,
     "metadata": {},
     "output_type": "execute_result"
    }
   ],
   "source": [
    "cal1(x=3,y=4)"
   ]
  },
  {
   "cell_type": "code",
   "execution_count": 19,
   "id": "94b576ae",
   "metadata": {},
   "outputs": [
    {
     "data": {
      "text/plain": [
       "11"
      ]
     },
     "execution_count": 19,
     "metadata": {},
     "output_type": "execute_result"
    }
   ],
   "source": [
    "cal1(3,4)"
   ]
  },
  {
   "cell_type": "code",
   "execution_count": 17,
   "id": "aed9cd0a",
   "metadata": {},
   "outputs": [
    {
     "data": {
      "text/plain": [
       "6"
      ]
     },
     "execution_count": 17,
     "metadata": {},
     "output_type": "execute_result"
    }
   ],
   "source": [
    "cal1(4)"
   ]
  },
  {
   "cell_type": "code",
   "execution_count": 21,
   "id": "d76e87a8",
   "metadata": {},
   "outputs": [],
   "source": [
    "def cal_1(kind:str, *numbers: int)->float:\n",
    "    if kind == 'sum':\n",
    "        return sum(numbers)\n",
    "    elif kind == 'mean':\n",
    "        return sum(numbers)/len(numbers)\n",
    "    else:\n",
    "        return \"not defined\"\n",
    "        \n",
    "    \n"
   ]
  },
  {
   "cell_type": "code",
   "execution_count": 22,
   "id": "7f9d97a6",
   "metadata": {},
   "outputs": [
    {
     "data": {
      "text/plain": [
       "5.1"
      ]
     },
     "execution_count": 22,
     "metadata": {},
     "output_type": "execute_result"
    }
   ],
   "source": [
    "cal_1('mean', 3,4,5,6,7,8,9,2,3,4)"
   ]
  },
  {
   "cell_type": "code",
   "execution_count": 1,
   "id": "65c3b182",
   "metadata": {},
   "outputs": [
    {
     "name": "stdout",
     "output_type": "stream",
     "text": [
      "My mudule is imported\n"
     ]
    }
   ],
   "source": [
    "import my_module as md "
   ]
  },
  {
   "cell_type": "code",
   "execution_count": 2,
   "id": "5bb06462",
   "metadata": {},
   "outputs": [
    {
     "data": {
      "text/plain": [
       "[1, 2, 3, 4, 2, 4, 5, 2]"
      ]
     },
     "execution_count": 2,
     "metadata": {},
     "output_type": "execute_result"
    }
   ],
   "source": [
    "md.data"
   ]
  },
  {
   "cell_type": "code",
   "execution_count": 3,
   "id": "37a23658",
   "metadata": {},
   "outputs": [
    {
     "data": {
      "text/plain": [
       "{'hello': 2,\n",
       " 'long': 2,\n",
       " 'my': 1,\n",
       " 'name': 1,\n",
       " 'is': 1,\n",
       " 'nguyen': 1,\n",
       " 'tuan': 1,\n",
       " ',': 1}"
      ]
     },
     "execution_count": 3,
     "metadata": {},
     "output_type": "execute_result"
    }
   ],
   "source": [
    "md.count_fre('Hello Long my name is Nguyen Tuan Long , hello')"
   ]
  },
  {
   "cell_type": "code",
   "execution_count": 4,
   "id": "f02c84ad",
   "metadata": {},
   "outputs": [
    {
     "ename": "NameError",
     "evalue": "name 'data' is not defined",
     "output_type": "error",
     "traceback": [
      "\u001b[1;31m---------------------------------------------------------------------------\u001b[0m",
      "\u001b[1;31mNameError\u001b[0m                                 Traceback (most recent call last)",
      "Cell \u001b[1;32mIn[4], line 1\u001b[0m\n\u001b[1;32m----> 1\u001b[0m \u001b[43mdata\u001b[49m \n",
      "\u001b[1;31mNameError\u001b[0m: name 'data' is not defined"
     ]
    }
   ],
   "source": [
    "data "
   ]
  },
  {
   "cell_type": "code",
   "execution_count": 5,
   "id": "221866f0",
   "metadata": {},
   "outputs": [],
   "source": [
    "from my_module import data "
   ]
  },
  {
   "cell_type": "code",
   "execution_count": 6,
   "id": "facbd6b5",
   "metadata": {},
   "outputs": [
    {
     "data": {
      "text/plain": [
       "[1, 2, 3, 4, 2, 4, 5, 2]"
      ]
     },
     "execution_count": 6,
     "metadata": {},
     "output_type": "execute_result"
    }
   ],
   "source": [
    "data"
   ]
  },
  {
   "cell_type": "code",
   "execution_count": 7,
   "id": "dcc2da7f",
   "metadata": {},
   "outputs": [],
   "source": [
    "from my_module import count_fre"
   ]
  },
  {
   "cell_type": "code",
   "execution_count": 8,
   "id": "51b21679",
   "metadata": {},
   "outputs": [
    {
     "data": {
      "text/plain": [
       "{'sdfsf': 1, 'sf': 2, 's': 1, 'fs': 2, 'fsd': 1, 'f': 1}"
      ]
     },
     "execution_count": 8,
     "metadata": {},
     "output_type": "execute_result"
    }
   ],
   "source": [
    "count_fre('sdfsf sf sf s fs fsd fs f')"
   ]
  },
  {
   "cell_type": "code",
   "execution_count": 12,
   "id": "156244e6",
   "metadata": {},
   "outputs": [
    {
     "name": "stdout",
     "output_type": "stream",
     "text": [
      "['D:\\\\OneDrive - National Economics University\\\\Day hoc\\\\Tiếng Anh\\\\Python for Data science\\\\Courses\\\\Course completed\\\\DSEB65/Final exam/Data4final_exam/', 'C:\\\\Users\\\\Admin\\\\anaconda3\\\\python311.zip', 'C:\\\\Users\\\\Admin\\\\anaconda3\\\\DLLs', 'C:\\\\Users\\\\Admin\\\\anaconda3\\\\Lib', 'C:\\\\Users\\\\Admin\\\\anaconda3', 'd:\\\\CODE\\\\env-teaching', '', 'd:\\\\CODE\\\\env-teaching\\\\Lib\\\\site-packages', 'd:\\\\CODE\\\\env-teaching\\\\Lib\\\\site-packages\\\\win32', 'd:\\\\CODE\\\\env-teaching\\\\Lib\\\\site-packages\\\\win32\\\\lib', 'd:\\\\CODE\\\\env-teaching\\\\Lib\\\\site-packages\\\\Pythonwin']\n"
     ]
    }
   ],
   "source": [
    "path = r'D:\\OneDrive - National Economics University\\Day hoc\\Tiếng Anh\\Python for Data science\\Courses\\Course completed\\DSEB65/Final exam/Data4final_exam/'\n",
    "#dseb65_final_exam.py\n",
    "import sys \n",
    "sys.path.insert(0,path)\n",
    "print(sys.path)"
   ]
  },
  {
   "cell_type": "code",
   "execution_count": 13,
   "id": "110a75af",
   "metadata": {},
   "outputs": [],
   "source": [
    "import dseb65_final_exam as exam"
   ]
  },
  {
   "cell_type": "code",
   "execution_count": 14,
   "id": "33859f07",
   "metadata": {},
   "outputs": [
    {
     "data": {
      "text/plain": [
       "'Bill ID: 101 | Date: 2024-11-16 | Customer: Jane Smith | Items: Earbuds (50.00), Mouse (25.50) | Discount: 15% | Tax: 10%\\nBill ID: 102 | Date: 2024-11-20 | Customer: Emily Davis | Items: Mouse (25.50), Lamp (40.00), Laptop (1200.00) | Discount: 15% | Tax: 10%\\nBill ID: 103 | Date: 2024-11-01 | Customer: John Doe | Items: Earbuds (50.00), Smartphone (850.00), HDMI Cable (15.00), Mouse (25.50), Desk (300.00) | Discount: 0% | Tax: 5%\\nBill ID: 104 | Date: 2024-11-24 | Customer: Sarah Wilson | Items: Chair (150.00), Printer (200.00) | Discount: 5% | Tax: 10%\\nBill ID: 105 | Date: 2024-11-08 | Customer: John Doe | Items: Lamp (40.00), Ink Cartridge (80.00), Monitor (250.00) | Discount: 5% | Tax: 8%\\nBill ID: 106 | Date: 2024-11-04 | Customer: Jane Smith | Items: Earbuds (50.00), Laptop (1200.00), Chair (150.00), Monitor (250.00), Mouse (25.50) | Discount: 5% | Tax: 8%\\nBill ID: 107 | Date: 2024-11-28 | Customer: Michael Brown | Items: Monitor (250.00), Printer (200.00), Smartphone (850.00), Earbuds (50.00), Ink Cartridge (80.00) | Discount: 20% | Tax: 10%\\nBill ID: 108 | Date: 2024-11-12 | Customer: Sarah Wilson | Items: HDMI Cable (15.00), Laptop (1200.00), Lamp (40.00), Smartphone (850.00), Chair (150.00) | Discount: 15% | Tax: 7%\\nBill ID: 109 | Date: 2024-11-12 | Customer: Sarah Wilson | Items: Mouse (25.50), Lamp (40.00), Monitor (250.00), Ink Cartridge (80.00) | Discount: 5% | Tax: 10%\\nBill ID: 110 | Date: 2024-11-21 | Customer: Emily Davis | Items: Lamp (40.00), Laptop (1200.00) | Discount: 10% | Tax: 10%\\nBill ID: 111 | Date: 2024-11-13 | Customer: Jane Smith | Items: Monitor (250.00), Smartphone (850.00), Laptop (1200.00) | Discount: 5% | Tax: 7%\\nBill ID: 112 | Date: 2024-11-13 | Customer: Sarah Wilson | Items: HDMI Cable (15.00), Desk (300.00), Lamp (40.00), Earbuds (50.00) | Discount: 20% | Tax: 5%\\nBill ID: 113 | Date: 2024-11-16 | Customer: Sarah Wilson | Items: Monitor (250.00), Ink Cartridge (80.00), Smartphone (850.00) | Discount: 15% | Tax: 5%\\nBill ID: 114 | Date: 2024-11-12 | Customer: Michael Brown | Items: Monitor (250.00), Chair (150.00), Lamp (40.00) | Discount: 10% | Tax: 10%\\nBill ID: 115 | Date: 2024-11-28 | Customer: John Doe | Items: Lamp (40.00), HDMI Cable (15.00), Laptop (1200.00), Smartphone (850.00) | Discount: 5% | Tax: 7%\\nBill ID: 116 | Date: 2024-11-01 | Customer: John Doe | Items: Laptop (1200.00), Printer (200.00), Mouse (25.50), HDMI Cable (15.00) | Discount: 0% | Tax: 10%\\nBill ID: 117 | Date: 2024-11-10 | Customer: Michael Brown | Items: Earbuds (50.00), Mouse (25.50), HDMI Cable (15.00) | Discount: 5% | Tax: 8%\\nBill ID: 118 | Date: 2024-11-21 | Customer: John Doe | Items: Keyboard (45.75), Earbuds (50.00), Monitor (250.00) | Discount: 5% | Tax: 8%\\nBill ID: 119 | Date: 2024-11-13 | Customer: Michael Brown | Items: Ink Cartridge (80.00), Desk (300.00), Lamp (40.00), HDMI Cable (15.00), Mouse (25.50) | Discount: 0% | Tax: 8%\\nBill ID: 120 | Date: 2024-11-27 | Customer: Michael Brown | Items: Smartphone (850.00), Earbuds (50.00), Mouse (25.50), Printer (200.00), Ink Cartridge (80.00) | Discount: 20% | Tax: 10%\\nBill ID: 121 | Date: 2024-11-15 | Customer: John Doe | Items: Laptop (1200.00), Chair (150.00), Keyboard (45.75) | Discount: 0% | Tax: 7%\\nBill ID: 122 | Date: 2024-11-13 | Customer: Sarah Wilson | Items: Monitor (250.00), Smartphone (850.00), Ink Cartridge (80.00), Lamp (40.00), Printer (200.00) | Discount: 20% | Tax: 5%\\nBill ID: 123 | Date: 2024-11-07 | Customer: Sarah Wilson | Items: Printer (200.00), Ink Cartridge (80.00), Chair (150.00), Laptop (1200.00) | Discount: 10% | Tax: 7%\\nBill ID: 124 | Date: 2024-11-19 | Customer: John Doe | Items: Mouse (25.50), Ink Cartridge (80.00), Earbuds (50.00), HDMI Cable (15.00) | Discount: 5% | Tax: 10%\\nBill ID: 125 | Date: 2024-11-29 | Customer: Michael Brown | Items: Laptop (1200.00), Monitor (250.00), Ink Cartridge (80.00) | Discount: 20% | Tax: 7%\\nBill ID: 126 | Date: 2024-11-04 | Customer: Sarah Wilson | Items: Keyboard (45.75), HDMI Cable (15.00), Monitor (250.00), Laptop (1200.00), Chair (150.00) | Discount: 5% | Tax: 8%\\nBill ID: 127 | Date: 2024-11-01 | Customer: Jane Smith | Items: HDMI Cable (15.00), Smartphone (850.00), Lamp (40.00), Mouse (25.50), Chair (150.00) | Discount: 10% | Tax: 10%\\nBill ID: 128 | Date: 2024-11-11 | Customer: Michael Brown | Items: Earbuds (50.00), Laptop (1200.00), Keyboard (45.75), Smartphone (850.00), Desk (300.00) | Discount: 20% | Tax: 7%\\nBill ID: 129 | Date: 2024-11-30 | Customer: Emily Davis | Items: Earbuds (50.00), Printer (200.00), Mouse (25.50) | Discount: 15% | Tax: 8%\\nBill ID: 130 | Date: 2024-11-06 | Customer: Sarah Wilson | Items: Monitor (250.00), Smartphone (850.00), Mouse (25.50), Laptop (1200.00), HDMI Cable (15.00) | Discount: 5% | Tax: 7%\\nBill ID: 131 | Date: 2024-11-12 | Customer: Sarah Wilson | Items: Earbuds (50.00), Desk (300.00), HDMI Cable (15.00) | Discount: 20% | Tax: 8%\\nBill ID: 132 | Date: 2024-11-11 | Customer: Michael Brown | Items: Mouse (25.50), Earbuds (50.00), Smartphone (850.00), Lamp (40.00) | Discount: 5% | Tax: 5%\\nBill ID: 133 | Date: 2024-11-03 | Customer: John Doe | Items: Mouse (25.50), Chair (150.00), Keyboard (45.75), HDMI Cable (15.00), Desk (300.00) | Discount: 0% | Tax: 10%\\nBill ID: 134 | Date: 2024-11-19 | Customer: Sarah Wilson | Items: HDMI Cable (15.00), Mouse (25.50), Earbuds (50.00) | Discount: 10% | Tax: 8%\\nBill ID: 135 | Date: 2024-11-27 | Customer: Sarah Wilson | Items: Lamp (40.00), Earbuds (50.00) | Discount: 0% | Tax: 5%\\nBill ID: 136 | Date: 2024-11-14 | Customer: Michael Brown | Items: HDMI Cable (15.00), Printer (200.00) | Discount: 0% | Tax: 5%\\nBill ID: 137 | Date: 2024-11-06 | Customer: John Doe | Items: Smartphone (850.00), Ink Cartridge (80.00) | Discount: 20% | Tax: 10%\\nBill ID: 138 | Date: 2024-11-26 | Customer: John Doe | Items: Keyboard (45.75), Printer (200.00), Smartphone (850.00), Ink Cartridge (80.00), Mouse (25.50) | Discount: 15% | Tax: 10%\\nBill ID: 139 | Date: 2024-11-21 | Customer: Sarah Wilson | Items: Monitor (250.00), Earbuds (50.00), Lamp (40.00), Desk (300.00) | Discount: 0% | Tax: 7%\\nBill ID: 140 | Date: 2024-11-15 | Customer: Michael Brown | Items: Laptop (1200.00), Ink Cartridge (80.00) | Discount: 10% | Tax: 8%'"
      ]
     },
     "execution_count": 14,
     "metadata": {},
     "output_type": "execute_result"
    }
   ],
   "source": [
    "exam.generate_bill_data(1)"
   ]
  },
  {
   "cell_type": "code",
   "execution_count": 15,
   "id": "905f07a5",
   "metadata": {},
   "outputs": [],
   "source": [
    "import seaborn as sns"
   ]
  },
  {
   "cell_type": "code",
   "execution_count": 17,
   "id": "7eb28080",
   "metadata": {},
   "outputs": [
    {
     "data": {
      "text/html": [
       "<div>\n",
       "<style scoped>\n",
       "    .dataframe tbody tr th:only-of-type {\n",
       "        vertical-align: middle;\n",
       "    }\n",
       "\n",
       "    .dataframe tbody tr th {\n",
       "        vertical-align: top;\n",
       "    }\n",
       "\n",
       "    .dataframe thead th {\n",
       "        text-align: right;\n",
       "    }\n",
       "</style>\n",
       "<table border=\"1\" class=\"dataframe\">\n",
       "  <thead>\n",
       "    <tr style=\"text-align: right;\">\n",
       "      <th></th>\n",
       "      <th>survived</th>\n",
       "      <th>pclass</th>\n",
       "      <th>sex</th>\n",
       "      <th>age</th>\n",
       "      <th>sibsp</th>\n",
       "      <th>parch</th>\n",
       "      <th>fare</th>\n",
       "      <th>embarked</th>\n",
       "      <th>class</th>\n",
       "      <th>who</th>\n",
       "      <th>adult_male</th>\n",
       "      <th>deck</th>\n",
       "      <th>embark_town</th>\n",
       "      <th>alive</th>\n",
       "      <th>alone</th>\n",
       "    </tr>\n",
       "  </thead>\n",
       "  <tbody>\n",
       "    <tr>\n",
       "      <th>0</th>\n",
       "      <td>0</td>\n",
       "      <td>3</td>\n",
       "      <td>male</td>\n",
       "      <td>22.0</td>\n",
       "      <td>1</td>\n",
       "      <td>0</td>\n",
       "      <td>7.2500</td>\n",
       "      <td>S</td>\n",
       "      <td>Third</td>\n",
       "      <td>man</td>\n",
       "      <td>True</td>\n",
       "      <td>NaN</td>\n",
       "      <td>Southampton</td>\n",
       "      <td>no</td>\n",
       "      <td>False</td>\n",
       "    </tr>\n",
       "    <tr>\n",
       "      <th>1</th>\n",
       "      <td>1</td>\n",
       "      <td>1</td>\n",
       "      <td>female</td>\n",
       "      <td>38.0</td>\n",
       "      <td>1</td>\n",
       "      <td>0</td>\n",
       "      <td>71.2833</td>\n",
       "      <td>C</td>\n",
       "      <td>First</td>\n",
       "      <td>woman</td>\n",
       "      <td>False</td>\n",
       "      <td>C</td>\n",
       "      <td>Cherbourg</td>\n",
       "      <td>yes</td>\n",
       "      <td>False</td>\n",
       "    </tr>\n",
       "    <tr>\n",
       "      <th>2</th>\n",
       "      <td>1</td>\n",
       "      <td>3</td>\n",
       "      <td>female</td>\n",
       "      <td>26.0</td>\n",
       "      <td>0</td>\n",
       "      <td>0</td>\n",
       "      <td>7.9250</td>\n",
       "      <td>S</td>\n",
       "      <td>Third</td>\n",
       "      <td>woman</td>\n",
       "      <td>False</td>\n",
       "      <td>NaN</td>\n",
       "      <td>Southampton</td>\n",
       "      <td>yes</td>\n",
       "      <td>True</td>\n",
       "    </tr>\n",
       "    <tr>\n",
       "      <th>3</th>\n",
       "      <td>1</td>\n",
       "      <td>1</td>\n",
       "      <td>female</td>\n",
       "      <td>35.0</td>\n",
       "      <td>1</td>\n",
       "      <td>0</td>\n",
       "      <td>53.1000</td>\n",
       "      <td>S</td>\n",
       "      <td>First</td>\n",
       "      <td>woman</td>\n",
       "      <td>False</td>\n",
       "      <td>C</td>\n",
       "      <td>Southampton</td>\n",
       "      <td>yes</td>\n",
       "      <td>False</td>\n",
       "    </tr>\n",
       "    <tr>\n",
       "      <th>4</th>\n",
       "      <td>0</td>\n",
       "      <td>3</td>\n",
       "      <td>male</td>\n",
       "      <td>35.0</td>\n",
       "      <td>0</td>\n",
       "      <td>0</td>\n",
       "      <td>8.0500</td>\n",
       "      <td>S</td>\n",
       "      <td>Third</td>\n",
       "      <td>man</td>\n",
       "      <td>True</td>\n",
       "      <td>NaN</td>\n",
       "      <td>Southampton</td>\n",
       "      <td>no</td>\n",
       "      <td>True</td>\n",
       "    </tr>\n",
       "    <tr>\n",
       "      <th>5</th>\n",
       "      <td>0</td>\n",
       "      <td>3</td>\n",
       "      <td>male</td>\n",
       "      <td>NaN</td>\n",
       "      <td>0</td>\n",
       "      <td>0</td>\n",
       "      <td>8.4583</td>\n",
       "      <td>Q</td>\n",
       "      <td>Third</td>\n",
       "      <td>man</td>\n",
       "      <td>True</td>\n",
       "      <td>NaN</td>\n",
       "      <td>Queenstown</td>\n",
       "      <td>no</td>\n",
       "      <td>True</td>\n",
       "    </tr>\n",
       "    <tr>\n",
       "      <th>6</th>\n",
       "      <td>0</td>\n",
       "      <td>1</td>\n",
       "      <td>male</td>\n",
       "      <td>54.0</td>\n",
       "      <td>0</td>\n",
       "      <td>0</td>\n",
       "      <td>51.8625</td>\n",
       "      <td>S</td>\n",
       "      <td>First</td>\n",
       "      <td>man</td>\n",
       "      <td>True</td>\n",
       "      <td>E</td>\n",
       "      <td>Southampton</td>\n",
       "      <td>no</td>\n",
       "      <td>True</td>\n",
       "    </tr>\n",
       "    <tr>\n",
       "      <th>7</th>\n",
       "      <td>0</td>\n",
       "      <td>3</td>\n",
       "      <td>male</td>\n",
       "      <td>2.0</td>\n",
       "      <td>3</td>\n",
       "      <td>1</td>\n",
       "      <td>21.0750</td>\n",
       "      <td>S</td>\n",
       "      <td>Third</td>\n",
       "      <td>child</td>\n",
       "      <td>False</td>\n",
       "      <td>NaN</td>\n",
       "      <td>Southampton</td>\n",
       "      <td>no</td>\n",
       "      <td>False</td>\n",
       "    </tr>\n",
       "    <tr>\n",
       "      <th>8</th>\n",
       "      <td>1</td>\n",
       "      <td>3</td>\n",
       "      <td>female</td>\n",
       "      <td>27.0</td>\n",
       "      <td>0</td>\n",
       "      <td>2</td>\n",
       "      <td>11.1333</td>\n",
       "      <td>S</td>\n",
       "      <td>Third</td>\n",
       "      <td>woman</td>\n",
       "      <td>False</td>\n",
       "      <td>NaN</td>\n",
       "      <td>Southampton</td>\n",
       "      <td>yes</td>\n",
       "      <td>False</td>\n",
       "    </tr>\n",
       "    <tr>\n",
       "      <th>9</th>\n",
       "      <td>1</td>\n",
       "      <td>2</td>\n",
       "      <td>female</td>\n",
       "      <td>14.0</td>\n",
       "      <td>1</td>\n",
       "      <td>0</td>\n",
       "      <td>30.0708</td>\n",
       "      <td>C</td>\n",
       "      <td>Second</td>\n",
       "      <td>child</td>\n",
       "      <td>False</td>\n",
       "      <td>NaN</td>\n",
       "      <td>Cherbourg</td>\n",
       "      <td>yes</td>\n",
       "      <td>False</td>\n",
       "    </tr>\n",
       "  </tbody>\n",
       "</table>\n",
       "</div>"
      ],
      "text/plain": [
       "   survived  pclass     sex   age  sibsp  parch     fare embarked   class  \\\n",
       "0         0       3    male  22.0      1      0   7.2500        S   Third   \n",
       "1         1       1  female  38.0      1      0  71.2833        C   First   \n",
       "2         1       3  female  26.0      0      0   7.9250        S   Third   \n",
       "3         1       1  female  35.0      1      0  53.1000        S   First   \n",
       "4         0       3    male  35.0      0      0   8.0500        S   Third   \n",
       "5         0       3    male   NaN      0      0   8.4583        Q   Third   \n",
       "6         0       1    male  54.0      0      0  51.8625        S   First   \n",
       "7         0       3    male   2.0      3      1  21.0750        S   Third   \n",
       "8         1       3  female  27.0      0      2  11.1333        S   Third   \n",
       "9         1       2  female  14.0      1      0  30.0708        C  Second   \n",
       "\n",
       "     who  adult_male deck  embark_town alive  alone  \n",
       "0    man        True  NaN  Southampton    no  False  \n",
       "1  woman       False    C    Cherbourg   yes  False  \n",
       "2  woman       False  NaN  Southampton   yes   True  \n",
       "3  woman       False    C  Southampton   yes  False  \n",
       "4    man        True  NaN  Southampton    no   True  \n",
       "5    man        True  NaN   Queenstown    no   True  \n",
       "6    man        True    E  Southampton    no   True  \n",
       "7  child       False  NaN  Southampton    no  False  \n",
       "8  woman       False  NaN  Southampton   yes  False  \n",
       "9  child       False  NaN    Cherbourg   yes  False  "
      ]
     },
     "execution_count": 17,
     "metadata": {},
     "output_type": "execute_result"
    }
   ],
   "source": [
    "titatic = sns.load_dataset('titanic')\n",
    "titatic.head(10)"
   ]
  },
  {
   "cell_type": "code",
   "execution_count": null,
   "id": "528eb010",
   "metadata": {},
   "outputs": [],
   "source": []
  }
 ],
 "metadata": {
  "kernelspec": {
   "display_name": "env-teaching",
   "language": "python",
   "name": "python3"
  },
  "language_info": {
   "codemirror_mode": {
    "name": "ipython",
    "version": 3
   },
   "file_extension": ".py",
   "mimetype": "text/x-python",
   "name": "python",
   "nbconvert_exporter": "python",
   "pygments_lexer": "ipython3",
   "version": "3.11.7"
  }
 },
 "nbformat": 4,
 "nbformat_minor": 5
}
