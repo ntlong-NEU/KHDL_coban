{
 "cells": [
  {
   "cell_type": "markdown",
   "id": "fb4f0865",
   "metadata": {},
   "source": [
    "## **Lesson 2: Lists, Tuples, Sets and Dictionaries**"
   ]
  },
  {
   "cell_type": "code",
   "execution_count": 2,
   "id": "a948a88e",
   "metadata": {},
   "outputs": [
    {
     "name": "stdout",
     "output_type": "stream",
     "text": [
      "['Long', 'Hoang', 'Anh']\n"
     ]
    }
   ],
   "source": [
    "names = ['Long', 'Hoang', \"Anh\"]\n",
    "print(names)"
   ]
  },
  {
   "cell_type": "code",
   "execution_count": 3,
   "id": "9bcda063",
   "metadata": {},
   "outputs": [
    {
     "data": {
      "text/plain": [
       "list"
      ]
     },
     "execution_count": 3,
     "metadata": {},
     "output_type": "execute_result"
    }
   ],
   "source": [
    "type(names)"
   ]
  },
  {
   "cell_type": "code",
   "execution_count": 4,
   "id": "5d33bb4d",
   "metadata": {},
   "outputs": [
    {
     "data": {
      "text/plain": [
       "3"
      ]
     },
     "execution_count": 4,
     "metadata": {},
     "output_type": "execute_result"
    }
   ],
   "source": [
    "len(names)"
   ]
  },
  {
   "cell_type": "code",
   "execution_count": 5,
   "id": "d6ff06ca",
   "metadata": {},
   "outputs": [
    {
     "data": {
      "text/plain": [
       "5"
      ]
     },
     "execution_count": 5,
     "metadata": {},
     "output_type": "execute_result"
    }
   ],
   "source": [
    "len(\"sdfsf\")"
   ]
  },
  {
   "cell_type": "code",
   "execution_count": 6,
   "id": "10a15f1a",
   "metadata": {},
   "outputs": [
    {
     "data": {
      "text/plain": [
       "['Long', 'Hoang', 'Anh']"
      ]
     },
     "execution_count": 6,
     "metadata": {},
     "output_type": "execute_result"
    }
   ],
   "source": [
    "names  "
   ]
  },
  {
   "cell_type": "code",
   "execution_count": 7,
   "id": "7d672747",
   "metadata": {},
   "outputs": [
    {
     "data": {
      "text/plain": [
       "'Long'"
      ]
     },
     "execution_count": 7,
     "metadata": {},
     "output_type": "execute_result"
    }
   ],
   "source": [
    "names[0]"
   ]
  },
  {
   "cell_type": "code",
   "execution_count": 8,
   "id": "80810114",
   "metadata": {},
   "outputs": [
    {
     "data": {
      "text/plain": [
       "'Hoang'"
      ]
     },
     "execution_count": 8,
     "metadata": {},
     "output_type": "execute_result"
    }
   ],
   "source": [
    "names[1]"
   ]
  },
  {
   "cell_type": "code",
   "execution_count": 9,
   "id": "6a5314b4",
   "metadata": {},
   "outputs": [
    {
     "data": {
      "text/plain": [
       "'Anh'"
      ]
     },
     "execution_count": 9,
     "metadata": {},
     "output_type": "execute_result"
    }
   ],
   "source": [
    "names[-1]"
   ]
  },
  {
   "cell_type": "markdown",
   "id": "06554e3c",
   "metadata": {},
   "source": []
  },
  {
   "cell_type": "code",
   "execution_count": 10,
   "id": "58af2364",
   "metadata": {},
   "outputs": [
    {
     "ename": "IndexError",
     "evalue": "list index out of range",
     "output_type": "error",
     "traceback": [
      "\u001b[1;31m---------------------------------------------------------------------------\u001b[0m",
      "\u001b[1;31mIndexError\u001b[0m                                Traceback (most recent call last)",
      "Cell \u001b[1;32mIn[10], line 1\u001b[0m\n\u001b[1;32m----> 1\u001b[0m \u001b[43mnames\u001b[49m\u001b[43m[\u001b[49m\u001b[38;5;241;43m-\u001b[39;49m\u001b[38;5;241;43m4\u001b[39;49m\u001b[43m]\u001b[49m\n",
      "\u001b[1;31mIndexError\u001b[0m: list index out of range"
     ]
    }
   ],
   "source": [
    "names[-4]"
   ]
  },
  {
   "cell_type": "code",
   "execution_count": 11,
   "id": "2defb81e",
   "metadata": {},
   "outputs": [
    {
     "ename": "IndexError",
     "evalue": "list index out of range",
     "output_type": "error",
     "traceback": [
      "\u001b[1;31m---------------------------------------------------------------------------\u001b[0m",
      "\u001b[1;31mIndexError\u001b[0m                                Traceback (most recent call last)",
      "Cell \u001b[1;32mIn[11], line 1\u001b[0m\n\u001b[1;32m----> 1\u001b[0m \u001b[43mnames\u001b[49m\u001b[43m[\u001b[49m\u001b[38;5;241;43m3\u001b[39;49m\u001b[43m]\u001b[49m\n",
      "\u001b[1;31mIndexError\u001b[0m: list index out of range"
     ]
    }
   ],
   "source": [
    "names[3]"
   ]
  },
  {
   "cell_type": "code",
   "execution_count": 12,
   "id": "5bc3258e",
   "metadata": {},
   "outputs": [
    {
     "data": {
      "text/plain": [
       "['Long', 'Hoang', 'Anh']"
      ]
     },
     "execution_count": 12,
     "metadata": {},
     "output_type": "execute_result"
    }
   ],
   "source": [
    "names"
   ]
  },
  {
   "cell_type": "code",
   "execution_count": 13,
   "id": "cc69c466",
   "metadata": {},
   "outputs": [
    {
     "data": {
      "text/plain": [
       "['NTLong', 'Hoang', 'Anh']"
      ]
     },
     "execution_count": 13,
     "metadata": {},
     "output_type": "execute_result"
    }
   ],
   "source": [
    "names[0]  = \"NTLong\"\n",
    "names "
   ]
  },
  {
   "cell_type": "code",
   "execution_count": 14,
   "id": "254cb9e9",
   "metadata": {},
   "outputs": [
    {
     "data": {
      "text/plain": [
       "['NTLong', 'Hoang', 'Anh', 'NewName']"
      ]
     },
     "execution_count": 14,
     "metadata": {},
     "output_type": "execute_result"
    }
   ],
   "source": [
    "names.append(\"NewName\")\n",
    "names"
   ]
  },
  {
   "cell_type": "code",
   "execution_count": 15,
   "id": "d299d9e9",
   "metadata": {},
   "outputs": [
    {
     "data": {
      "text/plain": [
       "['NTLong', 'Anh', 'Hoang', 'Anh', 'NewName']"
      ]
     },
     "execution_count": 15,
     "metadata": {},
     "output_type": "execute_result"
    }
   ],
   "source": [
    "names.insert(1, \"Anh\")\n",
    "names"
   ]
  },
  {
   "cell_type": "code",
   "execution_count": 16,
   "id": "70087b65",
   "metadata": {},
   "outputs": [
    {
     "data": {
      "text/plain": [
       "['NTLong', 'Anh', 'Anh', 'NewName']"
      ]
     },
     "execution_count": 16,
     "metadata": {},
     "output_type": "execute_result"
    }
   ],
   "source": [
    "del names[2]\n",
    "names"
   ]
  },
  {
   "cell_type": "code",
   "execution_count": 17,
   "id": "2807a4e7",
   "metadata": {},
   "outputs": [
    {
     "data": {
      "text/plain": [
       "['NTLong', 'Anh', 'Anh']"
      ]
     },
     "execution_count": 17,
     "metadata": {},
     "output_type": "execute_result"
    }
   ],
   "source": [
    "names.pop() \n",
    "names "
   ]
  },
  {
   "cell_type": "code",
   "execution_count": 20,
   "id": "d260dc41",
   "metadata": {},
   "outputs": [
    {
     "ename": "ValueError",
     "evalue": "list.remove(x): x not in list",
     "output_type": "error",
     "traceback": [
      "\u001b[1;31m---------------------------------------------------------------------------\u001b[0m",
      "\u001b[1;31mValueError\u001b[0m                                Traceback (most recent call last)",
      "Cell \u001b[1;32mIn[20], line 1\u001b[0m\n\u001b[1;32m----> 1\u001b[0m \u001b[43mnames\u001b[49m\u001b[38;5;241;43m.\u001b[39;49m\u001b[43mremove\u001b[49m\u001b[43m(\u001b[49m\u001b[38;5;124;43m\"\u001b[39;49m\u001b[38;5;124;43mAnh\u001b[39;49m\u001b[38;5;124;43m\"\u001b[39;49m\u001b[43m)\u001b[49m\n\u001b[0;32m      2\u001b[0m names \n",
      "\u001b[1;31mValueError\u001b[0m: list.remove(x): x not in list"
     ]
    }
   ],
   "source": [
    "names.remove(\"Anh\")\n",
    "names "
   ]
  },
  {
   "cell_type": "code",
   "execution_count": null,
   "id": "5cd7fccd",
   "metadata": {},
   "outputs": [
    {
     "data": {
      "text/plain": [
       "str"
      ]
     },
     "execution_count": 21,
     "metadata": {},
     "output_type": "execute_result"
    }
   ],
   "source": [
    "cars = [\"BMW\", \"Mercedes\", \"Toyota\"]\n",
    "# 1. truy cập 1 phần tử theo index (âm, dương)\\ range of indexies\n",
    "# 2. Thêm 1 phần từ \"BMV\" vao cuối, vào index 1,\n",
    "# 3. Xoá phần tử ở index 2, xoá phần tử cuối cùng, xoá phần tử có value là \"Toyota\"\n",
    "type(cars[0])"
   ]
  },
  {
   "cell_type": "code",
   "execution_count": 22,
   "id": "a79bd241",
   "metadata": {},
   "outputs": [
    {
     "data": {
      "text/plain": [
       "['Anh', 'Anh', 'NTLong', 'NewName']"
      ]
     },
     "execution_count": 22,
     "metadata": {},
     "output_type": "execute_result"
    }
   ],
   "source": [
    "names = ['NTLong', 'Anh', 'Anh', 'NewName']\n",
    "sorted(names)"
   ]
  },
  {
   "cell_type": "code",
   "execution_count": 23,
   "id": "7df7a969",
   "metadata": {},
   "outputs": [
    {
     "data": {
      "text/plain": [
       "['NTLong', 'Anh', 'Anh', 'NewName']"
      ]
     },
     "execution_count": 23,
     "metadata": {},
     "output_type": "execute_result"
    }
   ],
   "source": [
    "names"
   ]
  },
  {
   "cell_type": "code",
   "execution_count": 24,
   "id": "0bdff825",
   "metadata": {},
   "outputs": [
    {
     "data": {
      "text/plain": [
       "['Anh', 'Anh', 'NTLong', 'NewName']"
      ]
     },
     "execution_count": 24,
     "metadata": {},
     "output_type": "execute_result"
    }
   ],
   "source": [
    "names.sort()  # sort in place \n",
    "names "
   ]
  },
  {
   "cell_type": "code",
   "execution_count": 28,
   "id": "04acd610",
   "metadata": {},
   "outputs": [],
   "source": [
    "digits = [1, 2, 3, 4, 5, 1,2,1,4,5, 'hai', 'ba', 'mot']"
   ]
  },
  {
   "cell_type": "code",
   "execution_count": 32,
   "id": "f8bf0b3b",
   "metadata": {},
   "outputs": [
    {
     "name": "stdout",
     "output_type": "stream",
     "text": [
      " so duoc chon la: 1\n",
      "---------------------\n",
      " so duoc chon la: 2\n",
      "---------------------\n",
      " so duoc chon la: 3\n",
      "---------------------\n",
      " so duoc chon la: 4\n",
      "---------------------\n",
      " so duoc chon la: 5\n",
      "---------------------\n",
      " so duoc chon la: 1\n",
      "---------------------\n",
      " so duoc chon la: 2\n",
      "---------------------\n",
      " so duoc chon la: 1\n",
      "---------------------\n",
      " so duoc chon la: 4\n",
      "---------------------\n",
      " so duoc chon la: 5\n",
      "---------------------\n",
      " so duoc chon la: hai\n",
      "---------------------\n",
      " so duoc chon la: ba\n",
      "---------------------\n",
      " so duoc chon la: mot\n",
      "---------------------\n"
     ]
    }
   ],
   "source": [
    "for item in digits:\n",
    "    print(f\" so duoc chon la: {item}\")\n",
    "    print(\"---------------------\")"
   ]
  },
  {
   "cell_type": "code",
   "execution_count": 33,
   "id": "6f809aa8",
   "metadata": {},
   "outputs": [
    {
     "name": "stdout",
     "output_type": "stream",
     "text": [
      "H\n",
      "e\n",
      "l\n",
      "l\n",
      "o\n",
      ",\n",
      " \n",
      "W\n",
      "o\n",
      "r\n",
      "l\n",
      "d\n",
      "!\n"
     ]
    }
   ],
   "source": [
    "message = \"Hello, World!\"\n",
    "for char in message:\n",
    "    print(char) "
   ]
  },
  {
   "cell_type": "code",
   "execution_count": 35,
   "id": "d4b02123",
   "metadata": {},
   "outputs": [
    {
     "data": {
      "text/plain": [
       "'H-e-l-l-o-,- -W-o-r-l-d-!'"
      ]
     },
     "execution_count": 35,
     "metadata": {},
     "output_type": "execute_result"
    }
   ],
   "source": [
    "'-'.join(list(message))"
   ]
  },
  {
   "cell_type": "code",
   "execution_count": 36,
   "id": "b392ec96",
   "metadata": {},
   "outputs": [
    {
     "data": {
      "text/plain": [
       "['H', 'e', 'l', 'l', 'o', ',', ' ', 'W', 'o', 'r', 'l', 'd', '!']"
      ]
     },
     "execution_count": 36,
     "metadata": {},
     "output_type": "execute_result"
    }
   ],
   "source": [
    "list(message)"
   ]
  },
  {
   "cell_type": "code",
   "execution_count": 37,
   "id": "c2d85877",
   "metadata": {},
   "outputs": [
    {
     "data": {
      "text/plain": [
       "'ab'"
      ]
     },
     "execution_count": 37,
     "metadata": {},
     "output_type": "execute_result"
    }
   ],
   "source": [
    "'a'+'b'"
   ]
  },
  {
   "cell_type": "code",
   "execution_count": 38,
   "id": "70caa4c7",
   "metadata": {},
   "outputs": [
    {
     "data": {
      "text/plain": [
       "'Hello, World!'"
      ]
     },
     "execution_count": 38,
     "metadata": {},
     "output_type": "execute_result"
    }
   ],
   "source": [
    "mes = ''\n",
    "for char in message:\n",
    "    mes += char # y+=1, nghĩa là y = y + 1\n",
    "mes\n"
   ]
  },
  {
   "cell_type": "code",
   "execution_count": 39,
   "id": "56213980",
   "metadata": {},
   "outputs": [
    {
     "data": {
      "text/plain": [
       "[2, 3, 4, 5, 6, 7, 8, 9]"
      ]
     },
     "execution_count": 39,
     "metadata": {},
     "output_type": "execute_result"
    }
   ],
   "source": [
    "list(range(2,10))"
   ]
  },
  {
   "cell_type": "code",
   "execution_count": 40,
   "id": "f0e1ef83",
   "metadata": {},
   "outputs": [
    {
     "data": {
      "text/plain": [
       "[0, 1, 2, 3]"
      ]
     },
     "execution_count": 40,
     "metadata": {},
     "output_type": "execute_result"
    }
   ],
   "source": [
    "list(range(4))"
   ]
  },
  {
   "cell_type": "code",
   "execution_count": 41,
   "id": "06a56e6d",
   "metadata": {},
   "outputs": [
    {
     "data": {
      "text/plain": [
       "[3, 5, 7]"
      ]
     },
     "execution_count": 41,
     "metadata": {},
     "output_type": "execute_result"
    }
   ],
   "source": [
    "list(range(3,8,2))"
   ]
  },
  {
   "cell_type": "code",
   "execution_count": 45,
   "id": "809f3f3e",
   "metadata": {},
   "outputs": [
    {
     "data": {
      "text/plain": [
       "[1, 5, 9, 13, 17, 21, 25, 29, 33, 37]"
      ]
     },
     "execution_count": 45,
     "metadata": {},
     "output_type": "execute_result"
    }
   ],
   "source": [
    "list(range(1,41,4))"
   ]
  },
  {
   "cell_type": "code",
   "execution_count": 46,
   "id": "5787b942",
   "metadata": {},
   "outputs": [
    {
     "data": {
      "text/plain": [
       "[0, 1, 4, 9, 16, 25, 36, 49, 64, 81]"
      ]
     },
     "execution_count": 46,
     "metadata": {},
     "output_type": "execute_result"
    }
   ],
   "source": [
    "squares=[]\n",
    "for i in range(10):\n",
    "    squares.append(i**2)\n",
    "squares"
   ]
  },
  {
   "cell_type": "code",
   "execution_count": 47,
   "id": "180c9d4a",
   "metadata": {},
   "outputs": [
    {
     "data": {
      "text/plain": [
       "0"
      ]
     },
     "execution_count": 47,
     "metadata": {},
     "output_type": "execute_result"
    }
   ],
   "source": [
    "min(squares)"
   ]
  },
  {
   "cell_type": "code",
   "execution_count": 48,
   "id": "320a0756",
   "metadata": {},
   "outputs": [
    {
     "data": {
      "text/plain": [
       "81"
      ]
     },
     "execution_count": 48,
     "metadata": {},
     "output_type": "execute_result"
    }
   ],
   "source": [
    "max(squares)"
   ]
  },
  {
   "cell_type": "code",
   "execution_count": 49,
   "id": "ff3f3866",
   "metadata": {},
   "outputs": [
    {
     "data": {
      "text/plain": [
       "285"
      ]
     },
     "execution_count": 49,
     "metadata": {},
     "output_type": "execute_result"
    }
   ],
   "source": [
    "sum(squares)"
   ]
  },
  {
   "cell_type": "code",
   "execution_count": 50,
   "id": "7298a468",
   "metadata": {},
   "outputs": [
    {
     "data": {
      "text/plain": [
       "28.5"
      ]
     },
     "execution_count": 50,
     "metadata": {},
     "output_type": "execute_result"
    }
   ],
   "source": [
    "sum(squares)/len(squares)"
   ]
  },
  {
   "cell_type": "code",
   "execution_count": 51,
   "id": "014b0a17",
   "metadata": {},
   "outputs": [
    {
     "data": {
      "text/plain": [
       "['__add__',\n",
       " '__class__',\n",
       " '__class_getitem__',\n",
       " '__contains__',\n",
       " '__delattr__',\n",
       " '__delitem__',\n",
       " '__dir__',\n",
       " '__doc__',\n",
       " '__eq__',\n",
       " '__format__',\n",
       " '__ge__',\n",
       " '__getattribute__',\n",
       " '__getitem__',\n",
       " '__getstate__',\n",
       " '__gt__',\n",
       " '__hash__',\n",
       " '__iadd__',\n",
       " '__imul__',\n",
       " '__init__',\n",
       " '__init_subclass__',\n",
       " '__iter__',\n",
       " '__le__',\n",
       " '__len__',\n",
       " '__lt__',\n",
       " '__mul__',\n",
       " '__ne__',\n",
       " '__new__',\n",
       " '__reduce__',\n",
       " '__reduce_ex__',\n",
       " '__repr__',\n",
       " '__reversed__',\n",
       " '__rmul__',\n",
       " '__setattr__',\n",
       " '__setitem__',\n",
       " '__sizeof__',\n",
       " '__str__',\n",
       " '__subclasshook__',\n",
       " 'append',\n",
       " 'clear',\n",
       " 'copy',\n",
       " 'count',\n",
       " 'extend',\n",
       " 'index',\n",
       " 'insert',\n",
       " 'pop',\n",
       " 'remove',\n",
       " 'reverse',\n",
       " 'sort']"
      ]
     },
     "execution_count": 51,
     "metadata": {},
     "output_type": "execute_result"
    }
   ],
   "source": [
    "dir(squares)"
   ]
  },
  {
   "cell_type": "code",
   "execution_count": 52,
   "id": "48ad866f",
   "metadata": {},
   "outputs": [
    {
     "name": "stdout",
     "output_type": "stream",
     "text": [
      "[100, 2, 3, 4, 5]\n",
      "[100, 2, 3, 4, 5]\n"
     ]
    }
   ],
   "source": [
    "alist = [1, 2, 3, 4, 5]\n",
    "blist = alist \n",
    "blist[0] = 100\n",
    "print(alist)\n",
    "print(blist)"
   ]
  },
  {
   "cell_type": "code",
   "execution_count": 53,
   "id": "68705313",
   "metadata": {},
   "outputs": [
    {
     "name": "stdout",
     "output_type": "stream",
     "text": [
      "[1, 2, 3, 4, 5]\n",
      "[100, 2, 3, 4, 5]\n"
     ]
    }
   ],
   "source": [
    "alist = [1, 2, 3, 4, 5]\n",
    "blist = alist.copy()  # create a shallow copy \n",
    "blist[0] = 100\n",
    "print(alist)\n",
    "print(blist)"
   ]
  },
  {
   "cell_type": "code",
   "execution_count": 55,
   "id": "8013745a",
   "metadata": {},
   "outputs": [
    {
     "name": "stdout",
     "output_type": "stream",
     "text": [
      "[[100, 1], 2, 3, 4, 5]\n",
      "[[100, 1], 2, 3, 4, 5]\n"
     ]
    }
   ],
   "source": [
    "a  = [[1,1], 2, 3, 4, 5]\n",
    "b = a.copy()  # create a shallow copy\n",
    "b[0][0]= 100\n",
    "print(a)\n",
    "print(b)"
   ]
  },
  {
   "cell_type": "code",
   "execution_count": 56,
   "id": "1b054016",
   "metadata": {},
   "outputs": [
    {
     "data": {
      "text/plain": [
       "[0, 1, 4, 9, 16, 25, 36, 49, 64, 81]"
      ]
     },
     "execution_count": 56,
     "metadata": {},
     "output_type": "execute_result"
    }
   ],
   "source": [
    "[i**2 for i in range(10)]"
   ]
  },
  {
   "cell_type": "code",
   "execution_count": 57,
   "id": "2d31c2c8",
   "metadata": {},
   "outputs": [
    {
     "name": "stdout",
     "output_type": "stream",
     "text": [
      "Hello\n",
      "Hello\n",
      "Hello\n",
      "Hello\n",
      "Hello\n",
      "Hello\n",
      "Hello\n",
      "Hello\n",
      "Hello\n",
      "Hello\n"
     ]
    }
   ],
   "source": [
    "for _ in range(10):\n",
    "    print('Hello')"
   ]
  },
  {
   "cell_type": "code",
   "execution_count": 58,
   "id": "a09732a9",
   "metadata": {},
   "outputs": [
    {
     "data": {
      "text/plain": [
       "[1, 2, 3, 4, 5, 1, 2, 1, 4, 5, 'hai', 'ba', 'mot']"
      ]
     },
     "execution_count": 58,
     "metadata": {},
     "output_type": "execute_result"
    }
   ],
   "source": [
    "digits "
   ]
  },
  {
   "cell_type": "code",
   "execution_count": 59,
   "id": "9ffbdff8",
   "metadata": {},
   "outputs": [
    {
     "data": {
      "text/plain": [
       "['hai', 'ba']"
      ]
     },
     "execution_count": 59,
     "metadata": {},
     "output_type": "execute_result"
    }
   ],
   "source": [
    "digits[-3:-1]"
   ]
  },
  {
   "cell_type": "code",
   "execution_count": 60,
   "id": "544313fc",
   "metadata": {},
   "outputs": [
    {
     "data": {
      "text/plain": [
       "['hai', 'ba', 'mot']"
      ]
     },
     "execution_count": 60,
     "metadata": {},
     "output_type": "execute_result"
    }
   ],
   "source": [
    "digits[-3:]"
   ]
  },
  {
   "cell_type": "code",
   "execution_count": 61,
   "id": "6d40f826",
   "metadata": {},
   "outputs": [
    {
     "data": {
      "text/plain": [
       "[1, 2, 3, 4]"
      ]
     },
     "execution_count": 61,
     "metadata": {},
     "output_type": "execute_result"
    }
   ],
   "source": [
    "digits[:4]"
   ]
  },
  {
   "cell_type": "code",
   "execution_count": 62,
   "id": "9139a1a1",
   "metadata": {},
   "outputs": [
    {
     "data": {
      "text/plain": [
       "[1, 3, 5]"
      ]
     },
     "execution_count": 62,
     "metadata": {},
     "output_type": "execute_result"
    }
   ],
   "source": [
    "digits[:5:2]"
   ]
  },
  {
   "cell_type": "code",
   "execution_count": 63,
   "id": "8bfb0657",
   "metadata": {},
   "outputs": [
    {
     "data": {
      "text/plain": [
       "[1, 2, 3, 4, 5, 1, 2, 1, 4, 5, 'hai', 'ba', 'mot']"
      ]
     },
     "execution_count": 63,
     "metadata": {},
     "output_type": "execute_result"
    }
   ],
   "source": [
    "digits \n"
   ]
  },
  {
   "cell_type": "code",
   "execution_count": 65,
   "id": "d86d4762",
   "metadata": {},
   "outputs": [],
   "source": [
    "digits[:4][0]= 'new'"
   ]
  },
  {
   "cell_type": "code",
   "execution_count": 66,
   "id": "b8941aa1",
   "metadata": {},
   "outputs": [
    {
     "data": {
      "text/plain": [
       "[1, 2, 3, 4, 5, 1, 2, 1, 4, 5, 'hai', 'ba', 'mot']"
      ]
     },
     "execution_count": 66,
     "metadata": {},
     "output_type": "execute_result"
    }
   ],
   "source": [
    "digits  "
   ]
  },
  {
   "cell_type": "code",
   "execution_count": 67,
   "id": "2ae42480",
   "metadata": {},
   "outputs": [
    {
     "name": "stdout",
     "output_type": "stream",
     "text": [
      "[1, 2, 3, 4, 5, 1, 2, 1, 4, 5, 'hai', 'ba', 'mot']\n",
      "['new', 2, 3, 4, 5, 1, 2, 1, 4, 5, 'hai', 'ba', 'mot']\n"
     ]
    }
   ],
   "source": [
    "#clicing  = copy (shallow)\n",
    "new_digits = digits[:]# digits.copy() \n",
    "new_digits[0] = 'new'\n",
    "print(digits)\n",
    "print(new_digits)"
   ]
  },
  {
   "cell_type": "code",
   "execution_count": 68,
   "id": "b8e6ea07",
   "metadata": {},
   "outputs": [
    {
     "data": {
      "text/plain": [
       "{1, 2, 3, 4, 5, 6}"
      ]
     },
     "execution_count": 68,
     "metadata": {},
     "output_type": "execute_result"
    }
   ],
   "source": [
    "aset = {1, 2, 3, 4, 5}\n",
    "aset.add(6)\n",
    "aset "
   ]
  },
  {
   "cell_type": "code",
   "execution_count": 69,
   "id": "20dc7464",
   "metadata": {},
   "outputs": [
    {
     "data": {
      "text/plain": [
       "{1, 2, 3, 4, 5, 6, 7, 8, 9}"
      ]
     },
     "execution_count": 69,
     "metadata": {},
     "output_type": "execute_result"
    }
   ],
   "source": [
    "aset.update([7, 8, 9])\n",
    "aset"
   ]
  },
  {
   "cell_type": "code",
   "execution_count": 70,
   "id": "19e24b05",
   "metadata": {},
   "outputs": [
    {
     "data": {
      "text/plain": [
       "{1, 2, 3, 4, 5, 6, 7, 8, 9}"
      ]
     },
     "execution_count": 70,
     "metadata": {},
     "output_type": "execute_result"
    }
   ],
   "source": [
    "aset.add(7)\n",
    "aset"
   ]
  },
  {
   "cell_type": "code",
   "execution_count": 71,
   "id": "7e0dd559",
   "metadata": {},
   "outputs": [
    {
     "data": {
      "text/plain": [
       "{1, 2, 3, 4, 5, 6, 8, 9}"
      ]
     },
     "execution_count": 71,
     "metadata": {},
     "output_type": "execute_result"
    }
   ],
   "source": [
    "aset.remove(7)\n",
    "aset"
   ]
  },
  {
   "cell_type": "code",
   "execution_count": 72,
   "id": "d6550f1f",
   "metadata": {},
   "outputs": [
    {
     "ename": "KeyError",
     "evalue": "7",
     "output_type": "error",
     "traceback": [
      "\u001b[1;31m---------------------------------------------------------------------------\u001b[0m",
      "\u001b[1;31mKeyError\u001b[0m                                  Traceback (most recent call last)",
      "Cell \u001b[1;32mIn[72], line 1\u001b[0m\n\u001b[1;32m----> 1\u001b[0m \u001b[43maset\u001b[49m\u001b[38;5;241;43m.\u001b[39;49m\u001b[43mremove\u001b[49m\u001b[43m(\u001b[49m\u001b[38;5;241;43m7\u001b[39;49m\u001b[43m)\u001b[49m\n",
      "\u001b[1;31mKeyError\u001b[0m: 7"
     ]
    }
   ],
   "source": [
    "aset.remove(7)"
   ]
  },
  {
   "cell_type": "code",
   "execution_count": 76,
   "id": "f42d01aa",
   "metadata": {},
   "outputs": [],
   "source": [
    "aset.discard(7)  # does not raise an error if the element is not found"
   ]
  },
  {
   "cell_type": "code",
   "execution_count": 77,
   "id": "89f57f0e",
   "metadata": {},
   "outputs": [
    {
     "data": {
      "text/plain": [
       "{'d', 'f', 's'}"
      ]
     },
     "execution_count": 77,
     "metadata": {},
     "output_type": "execute_result"
    }
   ],
   "source": [
    "set('sdfsfsfdsfd')"
   ]
  },
  {
   "cell_type": "code",
   "execution_count": 78,
   "id": "ab1b3c9d",
   "metadata": {},
   "outputs": [
    {
     "data": {
      "text/plain": [
       "{1, 2, 3}"
      ]
     },
     "execution_count": 78,
     "metadata": {},
     "output_type": "execute_result"
    }
   ],
   "source": [
    "set([1,2,3,1,2])"
   ]
  },
  {
   "cell_type": "code",
   "execution_count": 79,
   "id": "598afdcc",
   "metadata": {},
   "outputs": [
    {
     "data": {
      "text/plain": [
       "{1, 2, 3}"
      ]
     },
     "execution_count": 79,
     "metadata": {},
     "output_type": "execute_result"
    }
   ],
   "source": [
    "set((1,2,3,1))"
   ]
  },
  {
   "cell_type": "code",
   "execution_count": 80,
   "id": "8821075a",
   "metadata": {},
   "outputs": [
    {
     "data": {
      "text/plain": [
       "('s', 'f', 'd', 's', 'd', 'f', 's', 'f')"
      ]
     },
     "execution_count": 80,
     "metadata": {},
     "output_type": "execute_result"
    }
   ],
   "source": [
    "tuple('sfdsdfsf')"
   ]
  },
  {
   "cell_type": "code",
   "execution_count": 81,
   "id": "7082544a",
   "metadata": {},
   "outputs": [
    {
     "data": {
      "text/plain": [
       "(123, 1, 3)"
      ]
     },
     "execution_count": 81,
     "metadata": {},
     "output_type": "execute_result"
    }
   ],
   "source": [
    "tuple([123,1,3])"
   ]
  },
  {
   "cell_type": "code",
   "execution_count": 82,
   "id": "80820eef",
   "metadata": {},
   "outputs": [
    {
     "ename": "ValueError",
     "evalue": "invalid literal for int() with base 10: 'dfsd'",
     "output_type": "error",
     "traceback": [
      "\u001b[1;31m---------------------------------------------------------------------------\u001b[0m",
      "\u001b[1;31mValueError\u001b[0m                                Traceback (most recent call last)",
      "Cell \u001b[1;32mIn[82], line 1\u001b[0m\n\u001b[1;32m----> 1\u001b[0m \u001b[38;5;28;43mint\u001b[39;49m\u001b[43m(\u001b[49m\u001b[38;5;124;43m'\u001b[39;49m\u001b[38;5;124;43mdfsd\u001b[39;49m\u001b[38;5;124;43m'\u001b[39;49m\u001b[43m)\u001b[49m\n",
      "\u001b[1;31mValueError\u001b[0m: invalid literal for int() with base 10: 'dfsd'"
     ]
    }
   ],
   "source": [
    "int('dfsd')"
   ]
  },
  {
   "cell_type": "code",
   "execution_count": 83,
   "id": "750f7923",
   "metadata": {},
   "outputs": [
    {
     "name": "stdout",
     "output_type": "stream",
     "text": [
      "The Zen of Python, by Tim Peters\n",
      "\n",
      "Beautiful is better than ugly.\n",
      "Explicit is better than implicit.\n",
      "Simple is better than complex.\n",
      "Complex is better than complicated.\n",
      "Flat is better than nested.\n",
      "Sparse is better than dense.\n",
      "Readability counts.\n",
      "Special cases aren't special enough to break the rules.\n",
      "Although practicality beats purity.\n",
      "Errors should never pass silently.\n",
      "Unless explicitly silenced.\n",
      "In the face of ambiguity, refuse the temptation to guess.\n",
      "There should be one-- and preferably only one --obvious way to do it.\n",
      "Although that way may not be obvious at first unless you're Dutch.\n",
      "Now is better than never.\n",
      "Although never is often better than *right* now.\n",
      "If the implementation is hard to explain, it's a bad idea.\n",
      "If the implementation is easy to explain, it may be a good idea.\n",
      "Namespaces are one honking great idea -- let's do more of those!\n"
     ]
    }
   ],
   "source": [
    "import this "
   ]
  },
  {
   "cell_type": "code",
   "execution_count": 84,
   "id": "3533fea4",
   "metadata": {},
   "outputs": [],
   "source": [
    "message = \"\"\"The Zen of Python, by Tim Peters\n",
    "\n",
    "Beautiful is better than ugly.\n",
    "Explicit is better than implicit.\n",
    "Simple is better than complex.\n",
    "Complex is better than complicated.\n",
    "Flat is better than nested.\n",
    "Sparse is better than dense.\n",
    "Readability counts.\n",
    "Special cases aren't special enough to break the rules.\n",
    "Although practicality beats purity.\n",
    "Errors should never pass silently.\n",
    "Unless explicitly silenced.\n",
    "In the face of ambiguity, refuse the temptation to guess.\n",
    "There should be one-- and preferably only one --obvious way to do it.\n",
    "Although that way may not be obvious at first unless you're Dutch.\n",
    "Now is better than never.\n",
    "Although never is often better than *right* now.\n",
    "If the implementation is hard to explain, it's a bad idea.\n",
    "If the implementation is easy to explain, it may be a good idea.\n",
    "Namespaces are one honking great idea -- let's do more of those!\"\"\""
   ]
  },
  {
   "cell_type": "code",
   "execution_count": 85,
   "id": "4827761f",
   "metadata": {},
   "outputs": [
    {
     "data": {
      "text/plain": [
       "856"
      ]
     },
     "execution_count": 85,
     "metadata": {},
     "output_type": "execute_result"
    }
   ],
   "source": [
    "len(message)"
   ]
  },
  {
   "cell_type": "code",
   "execution_count": 86,
   "id": "a0d858e8",
   "metadata": {},
   "outputs": [
    {
     "data": {
      "text/plain": [
       "['__add__',\n",
       " '__class__',\n",
       " '__contains__',\n",
       " '__delattr__',\n",
       " '__dir__',\n",
       " '__doc__',\n",
       " '__eq__',\n",
       " '__format__',\n",
       " '__ge__',\n",
       " '__getattribute__',\n",
       " '__getitem__',\n",
       " '__getnewargs__',\n",
       " '__getstate__',\n",
       " '__gt__',\n",
       " '__hash__',\n",
       " '__init__',\n",
       " '__init_subclass__',\n",
       " '__iter__',\n",
       " '__le__',\n",
       " '__len__',\n",
       " '__lt__',\n",
       " '__mod__',\n",
       " '__mul__',\n",
       " '__ne__',\n",
       " '__new__',\n",
       " '__reduce__',\n",
       " '__reduce_ex__',\n",
       " '__repr__',\n",
       " '__rmod__',\n",
       " '__rmul__',\n",
       " '__setattr__',\n",
       " '__sizeof__',\n",
       " '__str__',\n",
       " '__subclasshook__',\n",
       " 'capitalize',\n",
       " 'casefold',\n",
       " 'center',\n",
       " 'count',\n",
       " 'encode',\n",
       " 'endswith',\n",
       " 'expandtabs',\n",
       " 'find',\n",
       " 'format',\n",
       " 'format_map',\n",
       " 'index',\n",
       " 'isalnum',\n",
       " 'isalpha',\n",
       " 'isascii',\n",
       " 'isdecimal',\n",
       " 'isdigit',\n",
       " 'isidentifier',\n",
       " 'islower',\n",
       " 'isnumeric',\n",
       " 'isprintable',\n",
       " 'isspace',\n",
       " 'istitle',\n",
       " 'isupper',\n",
       " 'join',\n",
       " 'ljust',\n",
       " 'lower',\n",
       " 'lstrip',\n",
       " 'maketrans',\n",
       " 'partition',\n",
       " 'removeprefix',\n",
       " 'removesuffix',\n",
       " 'replace',\n",
       " 'rfind',\n",
       " 'rindex',\n",
       " 'rjust',\n",
       " 'rpartition',\n",
       " 'rsplit',\n",
       " 'rstrip',\n",
       " 'split',\n",
       " 'splitlines',\n",
       " 'startswith',\n",
       " 'strip',\n",
       " 'swapcase',\n",
       " 'title',\n",
       " 'translate',\n",
       " 'upper',\n",
       " 'zfill']"
      ]
     },
     "execution_count": 86,
     "metadata": {},
     "output_type": "execute_result"
    }
   ],
   "source": [
    "dir(message)"
   ]
  },
  {
   "cell_type": "code",
   "execution_count": 89,
   "id": "ff4873b2",
   "metadata": {},
   "outputs": [
    {
     "data": {
      "text/plain": [
       "['dsfsdf', 'sdfsd', 'sfsf']"
      ]
     },
     "execution_count": 89,
     "metadata": {},
     "output_type": "execute_result"
    }
   ],
   "source": [
    "'dsfsdf    sdfsd sfsf   '.split()"
   ]
  },
  {
   "cell_type": "code",
   "execution_count": 91,
   "id": "1bce36f3",
   "metadata": {},
   "outputs": [
    {
     "data": {
      "text/plain": [
       "144"
      ]
     },
     "execution_count": 91,
     "metadata": {},
     "output_type": "execute_result"
    }
   ],
   "source": [
    "len(message.split())"
   ]
  },
  {
   "cell_type": "code",
   "execution_count": 94,
   "id": "087e4302",
   "metadata": {},
   "outputs": [
    {
     "data": {
      "text/plain": [
       "'the zen of python  by tim peters\\n\\nbeautiful is better than ugly \\nexplicit is better than implicit \\nsimple is better than complex \\ncomplex is better than complicated \\nflat is better than nested \\nsparse is better than dense \\nreadability counts \\nspecial cases aren t special enough to break the rules \\nalthough practicality beats purity \\nerrors should never pass silently \\nunless explicitly silenced \\nin the face of ambiguity  refuse the temptation to guess \\nthere should be one   and preferably only one   obvious way to do it \\nalthough that way may not be obvious at first unless you re dutch \\nnow is better than never \\nalthough never is often better than *right* now \\nif the implementation is hard to explain  it s a bad idea \\nif the implementation is easy to explain  it may be a good idea \\nnamespaces are one honking great idea    let s do more of those '"
      ]
     },
     "execution_count": 94,
     "metadata": {},
     "output_type": "execute_result"
    }
   ],
   "source": [
    "#chuẩn hóa\n",
    "message = message.lower()\n",
    "\n",
    "special_letter = ['.', ',', '!', '?', ':', ';', '-', '_', '(', ')', '\"', \"'\"]\n",
    "for letter in special_letter:\n",
    "    message = message.replace(letter, ' ')  # remove special characters \n",
    "message "
   ]
  },
  {
   "cell_type": "code",
   "execution_count": 95,
   "id": "65e36aaf",
   "metadata": {},
   "outputs": [
    {
     "data": {
      "text/plain": [
       "['the',\n",
       " 'zen',\n",
       " 'of',\n",
       " 'python',\n",
       " 'by',\n",
       " 'tim',\n",
       " 'peters',\n",
       " 'beautiful',\n",
       " 'is',\n",
       " 'better',\n",
       " 'than',\n",
       " 'ugly',\n",
       " 'explicit',\n",
       " 'is',\n",
       " 'better',\n",
       " 'than',\n",
       " 'implicit',\n",
       " 'simple',\n",
       " 'is',\n",
       " 'better',\n",
       " 'than',\n",
       " 'complex',\n",
       " 'complex',\n",
       " 'is',\n",
       " 'better',\n",
       " 'than',\n",
       " 'complicated',\n",
       " 'flat',\n",
       " 'is',\n",
       " 'better',\n",
       " 'than',\n",
       " 'nested',\n",
       " 'sparse',\n",
       " 'is',\n",
       " 'better',\n",
       " 'than',\n",
       " 'dense',\n",
       " 'readability',\n",
       " 'counts',\n",
       " 'special',\n",
       " 'cases',\n",
       " 'aren',\n",
       " 't',\n",
       " 'special',\n",
       " 'enough',\n",
       " 'to',\n",
       " 'break',\n",
       " 'the',\n",
       " 'rules',\n",
       " 'although',\n",
       " 'practicality',\n",
       " 'beats',\n",
       " 'purity',\n",
       " 'errors',\n",
       " 'should',\n",
       " 'never',\n",
       " 'pass',\n",
       " 'silently',\n",
       " 'unless',\n",
       " 'explicitly',\n",
       " 'silenced',\n",
       " 'in',\n",
       " 'the',\n",
       " 'face',\n",
       " 'of',\n",
       " 'ambiguity',\n",
       " 'refuse',\n",
       " 'the',\n",
       " 'temptation',\n",
       " 'to',\n",
       " 'guess',\n",
       " 'there',\n",
       " 'should',\n",
       " 'be',\n",
       " 'one',\n",
       " 'and',\n",
       " 'preferably',\n",
       " 'only',\n",
       " 'one',\n",
       " 'obvious',\n",
       " 'way',\n",
       " 'to',\n",
       " 'do',\n",
       " 'it',\n",
       " 'although',\n",
       " 'that',\n",
       " 'way',\n",
       " 'may',\n",
       " 'not',\n",
       " 'be',\n",
       " 'obvious',\n",
       " 'at',\n",
       " 'first',\n",
       " 'unless',\n",
       " 'you',\n",
       " 're',\n",
       " 'dutch',\n",
       " 'now',\n",
       " 'is',\n",
       " 'better',\n",
       " 'than',\n",
       " 'never',\n",
       " 'although',\n",
       " 'never',\n",
       " 'is',\n",
       " 'often',\n",
       " 'better',\n",
       " 'than',\n",
       " '*right*',\n",
       " 'now',\n",
       " 'if',\n",
       " 'the',\n",
       " 'implementation',\n",
       " 'is',\n",
       " 'hard',\n",
       " 'to',\n",
       " 'explain',\n",
       " 'it',\n",
       " 's',\n",
       " 'a',\n",
       " 'bad',\n",
       " 'idea',\n",
       " 'if',\n",
       " 'the',\n",
       " 'implementation',\n",
       " 'is',\n",
       " 'easy',\n",
       " 'to',\n",
       " 'explain',\n",
       " 'it',\n",
       " 'may',\n",
       " 'be',\n",
       " 'a',\n",
       " 'good',\n",
       " 'idea',\n",
       " 'namespaces',\n",
       " 'are',\n",
       " 'one',\n",
       " 'honking',\n",
       " 'great',\n",
       " 'idea',\n",
       " 'let',\n",
       " 's',\n",
       " 'do',\n",
       " 'more',\n",
       " 'of',\n",
       " 'those']"
      ]
     },
     "execution_count": 95,
     "metadata": {},
     "output_type": "execute_result"
    }
   ],
   "source": [
    "words = message.split()\n",
    "words "
   ]
  },
  {
   "cell_type": "code",
   "execution_count": 96,
   "id": "86041583",
   "metadata": {},
   "outputs": [
    {
     "data": {
      "text/plain": [
       "{'*right*',\n",
       " 'a',\n",
       " 'although',\n",
       " 'ambiguity',\n",
       " 'and',\n",
       " 'are',\n",
       " 'aren',\n",
       " 'at',\n",
       " 'bad',\n",
       " 'be',\n",
       " 'beats',\n",
       " 'beautiful',\n",
       " 'better',\n",
       " 'break',\n",
       " 'by',\n",
       " 'cases',\n",
       " 'complex',\n",
       " 'complicated',\n",
       " 'counts',\n",
       " 'dense',\n",
       " 'do',\n",
       " 'dutch',\n",
       " 'easy',\n",
       " 'enough',\n",
       " 'errors',\n",
       " 'explain',\n",
       " 'explicit',\n",
       " 'explicitly',\n",
       " 'face',\n",
       " 'first',\n",
       " 'flat',\n",
       " 'good',\n",
       " 'great',\n",
       " 'guess',\n",
       " 'hard',\n",
       " 'honking',\n",
       " 'idea',\n",
       " 'if',\n",
       " 'implementation',\n",
       " 'implicit',\n",
       " 'in',\n",
       " 'is',\n",
       " 'it',\n",
       " 'let',\n",
       " 'may',\n",
       " 'more',\n",
       " 'namespaces',\n",
       " 'nested',\n",
       " 'never',\n",
       " 'not',\n",
       " 'now',\n",
       " 'obvious',\n",
       " 'of',\n",
       " 'often',\n",
       " 'one',\n",
       " 'only',\n",
       " 'pass',\n",
       " 'peters',\n",
       " 'practicality',\n",
       " 'preferably',\n",
       " 'purity',\n",
       " 'python',\n",
       " 're',\n",
       " 'readability',\n",
       " 'refuse',\n",
       " 'rules',\n",
       " 's',\n",
       " 'should',\n",
       " 'silenced',\n",
       " 'silently',\n",
       " 'simple',\n",
       " 'sparse',\n",
       " 'special',\n",
       " 't',\n",
       " 'temptation',\n",
       " 'than',\n",
       " 'that',\n",
       " 'the',\n",
       " 'there',\n",
       " 'those',\n",
       " 'tim',\n",
       " 'to',\n",
       " 'ugly',\n",
       " 'unless',\n",
       " 'way',\n",
       " 'you',\n",
       " 'zen'}"
      ]
     },
     "execution_count": 96,
     "metadata": {},
     "output_type": "execute_result"
    }
   ],
   "source": [
    "unique_words = set(words)\n",
    "unique_words"
   ]
  },
  {
   "cell_type": "code",
   "execution_count": 97,
   "id": "46e4403b",
   "metadata": {},
   "outputs": [
    {
     "data": {
      "text/plain": [
       "87"
      ]
     },
     "execution_count": 97,
     "metadata": {},
     "output_type": "execute_result"
    }
   ],
   "source": [
    "len(unique_words)"
   ]
  },
  {
   "cell_type": "code",
   "execution_count": 98,
   "id": "3436811b",
   "metadata": {},
   "outputs": [
    {
     "data": {
      "text/plain": [
       "[['beautiful', 1],\n",
       " ['the', 6],\n",
       " ['break', 1],\n",
       " ['easy', 1],\n",
       " ['sparse', 1],\n",
       " ['enough', 1],\n",
       " ['peters', 1],\n",
       " ['tim', 1],\n",
       " ['flat', 1],\n",
       " ['unless', 2],\n",
       " ['ugly', 1],\n",
       " ['readability', 1],\n",
       " ['bad', 1],\n",
       " ['let', 1],\n",
       " ['than', 8],\n",
       " ['refuse', 1],\n",
       " ['nested', 1],\n",
       " ['simple', 1],\n",
       " ['explicitly', 1],\n",
       " ['preferably', 1],\n",
       " ['t', 1],\n",
       " ['that', 1],\n",
       " ['those', 1],\n",
       " ['pass', 1],\n",
       " ['you', 1],\n",
       " ['and', 1],\n",
       " ['practicality', 1],\n",
       " ['special', 2],\n",
       " ['better', 8],\n",
       " ['zen', 1],\n",
       " ['cases', 1],\n",
       " ['it', 3],\n",
       " ['of', 3],\n",
       " ['hard', 1],\n",
       " ['aren', 1],\n",
       " ['re', 1],\n",
       " ['in', 1],\n",
       " ['complex', 2],\n",
       " ['rules', 1],\n",
       " ['dutch', 1],\n",
       " ['first', 1],\n",
       " ['good', 1],\n",
       " ['to', 5],\n",
       " ['often', 1],\n",
       " ['are', 1],\n",
       " ['errors', 1],\n",
       " ['idea', 3],\n",
       " ['beats', 1],\n",
       " ['silenced', 1],\n",
       " ['obvious', 2],\n",
       " ['python', 1],\n",
       " ['now', 2],\n",
       " ['be', 3],\n",
       " ['namespaces', 1],\n",
       " ['temptation', 1],\n",
       " ['by', 1],\n",
       " ['do', 2],\n",
       " ['ambiguity', 1],\n",
       " ['face', 1],\n",
       " ['not', 1],\n",
       " ['one', 3],\n",
       " ['purity', 1],\n",
       " ['guess', 1],\n",
       " ['counts', 1],\n",
       " ['at', 1],\n",
       " ['only', 1],\n",
       " ['is', 10],\n",
       " ['honking', 1],\n",
       " ['if', 2],\n",
       " ['great', 1],\n",
       " ['way', 2],\n",
       " ['silently', 1],\n",
       " ['there', 1],\n",
       " ['s', 2],\n",
       " ['never', 3],\n",
       " ['a', 2],\n",
       " ['implementation', 2],\n",
       " ['may', 2],\n",
       " ['explain', 2],\n",
       " ['complicated', 1],\n",
       " ['*right*', 1],\n",
       " ['dense', 1],\n",
       " ['implicit', 1],\n",
       " ['although', 3],\n",
       " ['explicit', 1],\n",
       " ['should', 2],\n",
       " ['more', 1]]"
      ]
     },
     "execution_count": 98,
     "metadata": {},
     "output_type": "execute_result"
    }
   ],
   "source": [
    "fre_words = [] #phần tử [word, frequency]\n",
    "for word in unique_words:\n",
    "    fre_words.append([word, words.count(word)])\n",
    "fre_words"
   ]
  },
  {
   "cell_type": "code",
   "execution_count": 99,
   "id": "42fc967d",
   "metadata": {},
   "outputs": [
    {
     "data": {
      "text/plain": [
       "[['is', 10],\n",
       " ['than', 8],\n",
       " ['better', 8],\n",
       " ['the', 6],\n",
       " ['to', 5],\n",
       " ['it', 3],\n",
       " ['of', 3],\n",
       " ['idea', 3],\n",
       " ['be', 3],\n",
       " ['one', 3],\n",
       " ['never', 3],\n",
       " ['although', 3],\n",
       " ['unless', 2],\n",
       " ['special', 2],\n",
       " ['complex', 2],\n",
       " ['obvious', 2],\n",
       " ['now', 2],\n",
       " ['do', 2],\n",
       " ['if', 2],\n",
       " ['way', 2],\n",
       " ['s', 2],\n",
       " ['a', 2],\n",
       " ['implementation', 2],\n",
       " ['may', 2],\n",
       " ['explain', 2],\n",
       " ['should', 2],\n",
       " ['beautiful', 1],\n",
       " ['break', 1],\n",
       " ['easy', 1],\n",
       " ['sparse', 1],\n",
       " ['enough', 1],\n",
       " ['peters', 1],\n",
       " ['tim', 1],\n",
       " ['flat', 1],\n",
       " ['ugly', 1],\n",
       " ['readability', 1],\n",
       " ['bad', 1],\n",
       " ['let', 1],\n",
       " ['refuse', 1],\n",
       " ['nested', 1],\n",
       " ['simple', 1],\n",
       " ['explicitly', 1],\n",
       " ['preferably', 1],\n",
       " ['t', 1],\n",
       " ['that', 1],\n",
       " ['those', 1],\n",
       " ['pass', 1],\n",
       " ['you', 1],\n",
       " ['and', 1],\n",
       " ['practicality', 1],\n",
       " ['zen', 1],\n",
       " ['cases', 1],\n",
       " ['hard', 1],\n",
       " ['aren', 1],\n",
       " ['re', 1],\n",
       " ['in', 1],\n",
       " ['rules', 1],\n",
       " ['dutch', 1],\n",
       " ['first', 1],\n",
       " ['good', 1],\n",
       " ['often', 1],\n",
       " ['are', 1],\n",
       " ['errors', 1],\n",
       " ['beats', 1],\n",
       " ['silenced', 1],\n",
       " ['python', 1],\n",
       " ['namespaces', 1],\n",
       " ['temptation', 1],\n",
       " ['by', 1],\n",
       " ['ambiguity', 1],\n",
       " ['face', 1],\n",
       " ['not', 1],\n",
       " ['purity', 1],\n",
       " ['guess', 1],\n",
       " ['counts', 1],\n",
       " ['at', 1],\n",
       " ['only', 1],\n",
       " ['honking', 1],\n",
       " ['great', 1],\n",
       " ['silently', 1],\n",
       " ['there', 1],\n",
       " ['complicated', 1],\n",
       " ['*right*', 1],\n",
       " ['dense', 1],\n",
       " ['implicit', 1],\n",
       " ['explicit', 1],\n",
       " ['more', 1]]"
      ]
     },
     "execution_count": 99,
     "metadata": {},
     "output_type": "execute_result"
    }
   ],
   "source": [
    "sorted(fre_words, key=lambda x: x[1], reverse=True)  # sort by frequency in descending order"
   ]
  },
  {
   "cell_type": "code",
   "execution_count": null,
   "id": "a5f10097",
   "metadata": {},
   "outputs": [],
   "source": []
  }
 ],
 "metadata": {
  "kernelspec": {
   "display_name": "env-teaching",
   "language": "python",
   "name": "python3"
  },
  "language_info": {
   "codemirror_mode": {
    "name": "ipython",
    "version": 3
   },
   "file_extension": ".py",
   "mimetype": "text/x-python",
   "name": "python",
   "nbconvert_exporter": "python",
   "pygments_lexer": "ipython3",
   "version": "3.11.7"
  }
 },
 "nbformat": 4,
 "nbformat_minor": 5
}
